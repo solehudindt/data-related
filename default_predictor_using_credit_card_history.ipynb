{
  "nbformat": 4,
  "nbformat_minor": 0,
  "metadata": {
    "colab": {
      "provenance": []
    },
    "kernelspec": {
      "name": "python3",
      "display_name": "Python 3"
    },
    "language_info": {
      "name": "python"
    }
  },
  "cells": [
    {
      "cell_type": "code",
      "execution_count": null,
      "metadata": {
        "id": "BPNI0glgFwnF"
      },
      "outputs": [],
      "source": []
    },
    {
      "cell_type": "code",
      "metadata": {
        "id": "TKUHd0F27X04"
      },
      "source": [
        "import pandas as pd\n",
        "import numpy as np\n",
        "import matplotlib.pyplot as plt\n",
        "import seaborn as sns\n",
        "%matplotlib inline"
      ],
      "execution_count": 1,
      "outputs": []
    },
    {
      "cell_type": "code",
      "metadata": {
        "id": "J7lASLvf8nDT",
        "outputId": "106bbdd5-4e11-4feb-8e46-acd2d34625fe",
        "colab": {
          "base_uri": "https://localhost:8080/"
        }
      },
      "source": [
        "from google.colab import drive\n",
        "drive.mount('/content/drive')"
      ],
      "execution_count": 2,
      "outputs": [
        {
          "output_type": "stream",
          "name": "stdout",
          "text": [
            "Mounted at /content/drive\n"
          ]
        }
      ]
    },
    {
      "cell_type": "code",
      "metadata": {
        "id": "-AyohGkB93Sg"
      },
      "source": [
        "import sys\n",
        "sys.path.append('/content/drive/MyDrive/soldv/python data/Home Credit')\n",
        "\n",
        "data1 = '/content/drive/MyDrive/soldv/python data/Home Credit/credit_card_balance.csv'"
      ],
      "execution_count": 3,
      "outputs": []
    },
    {
      "cell_type": "code",
      "source": [
        "df = pd.read_csv(data1)"
      ],
      "metadata": {
        "id": "8w7a80nkH5bV"
      },
      "execution_count": 4,
      "outputs": []
    },
    {
      "cell_type": "code",
      "source": [
        "df.drop(['SK_ID_PREV', 'MONTHS_BALANCE'], axis=1, inplace=True)\n",
        "df.drop(df.columns.difference(['AMT_BALANCE', 'AMT_DRAWINGS_CURRENT', 'AMT_INST_MIN_REGULARITY', 'AMT_RECEIVABLE_PRINCIPAL', \n",
        "                               'NAME_CONTRACT_STATUS', 'AMT_RECEIVABLE_PRINCIPAL', 'AMT_CREDIT_LIMIT_ACTUAL']), 1, inplace=True)"
      ],
      "metadata": {
        "id": "TONhKFddIRS0",
        "colab": {
          "base_uri": "https://localhost:8080/"
        },
        "outputId": "901ae3ae-8da3-4310-f0a7-2aaf963b83a8"
      },
      "execution_count": 6,
      "outputs": [
        {
          "output_type": "stream",
          "name": "stderr",
          "text": [
            "<ipython-input-6-ef050893b46c>:2: FutureWarning: In a future version of pandas all arguments of DataFrame.drop except for the argument 'labels' will be keyword-only.\n",
            "  df.drop(df.columns.difference(['AMT_BALANCE', 'AMT_DRAWINGS_CURRENT', 'AMT_INST_MIN_REGULARITY', 'AMT_RECEIVABLE_PRINCIPAL',\n"
          ]
        }
      ]
    },
    {
      "cell_type": "code",
      "source": [
        "df['NAME_CONTRACT_STATUS'].value_counts()"
      ],
      "metadata": {
        "colab": {
          "base_uri": "https://localhost:8080/"
        },
        "id": "xNzty-F-aD7c",
        "outputId": "5cdd8179-e812-4b90-af58-95563fd5e144"
      },
      "execution_count": 7,
      "outputs": [
        {
          "output_type": "execute_result",
          "data": {
            "text/plain": [
              "Active           3698436\n",
              "Completed         128918\n",
              "Signed             11058\n",
              "Demand              1365\n",
              "Sent proposal        513\n",
              "Refused               17\n",
              "Approved               5\n",
              "Name: NAME_CONTRACT_STATUS, dtype: int64"
            ]
          },
          "metadata": {},
          "execution_count": 7
        }
      ]
    },
    {
      "cell_type": "code",
      "source": [
        "# df = pd.get_dummies(df, columns=['NAME_CONTRACT_STATUS'])"
      ],
      "metadata": {
        "id": "cynNN-jUe2oq"
      },
      "execution_count": 73,
      "outputs": []
    },
    {
      "cell_type": "code",
      "source": [
        "df.head(10)"
      ],
      "metadata": {
        "id": "O8kLa9q2IH9J",
        "colab": {
          "base_uri": "https://localhost:8080/",
          "height": 363
        },
        "outputId": "a763639d-9955-4034-d73d-b005661dd297"
      },
      "execution_count": 8,
      "outputs": [
        {
          "output_type": "execute_result",
          "data": {
            "text/plain": [
              "   AMT_BALANCE  AMT_CREDIT_LIMIT_ACTUAL  AMT_DRAWINGS_CURRENT  \\\n",
              "0       56.970                   135000               877.500   \n",
              "1    63975.555                    45000              2250.000   \n",
              "2    31815.225                   450000                 0.000   \n",
              "3   236572.110                   225000              2250.000   \n",
              "4   453919.455                   450000             11547.000   \n",
              "5    82903.815                   270000                 0.000   \n",
              "6   353451.645                   585000             67500.000   \n",
              "7    47962.125                    45000             45000.000   \n",
              "8   291543.075                   292500            289339.425   \n",
              "9   201261.195                   225000            111026.700   \n",
              "\n",
              "   AMT_INST_MIN_REGULARITY  AMT_RECEIVABLE_PRINCIPAL NAME_CONTRACT_STATUS  \n",
              "0                 1700.325                     0.000               Active  \n",
              "1                 2250.000                 60175.080               Active  \n",
              "2                 2250.000                 26926.425               Active  \n",
              "3                11795.760                224949.285               Active  \n",
              "4                22924.890                443044.395               Active  \n",
              "5                 4449.105                 80519.040               Active  \n",
              "6                14684.175                345433.860               Active  \n",
              "7                    0.000                 44735.310               Active  \n",
              "8                  130.500                285376.410               Active  \n",
              "9                 6338.340                192793.275               Active  "
            ],
            "text/html": [
              "\n",
              "  <div id=\"df-42513daf-090c-4fd9-b1f0-fa3bebf2d5d9\">\n",
              "    <div class=\"colab-df-container\">\n",
              "      <div>\n",
              "<style scoped>\n",
              "    .dataframe tbody tr th:only-of-type {\n",
              "        vertical-align: middle;\n",
              "    }\n",
              "\n",
              "    .dataframe tbody tr th {\n",
              "        vertical-align: top;\n",
              "    }\n",
              "\n",
              "    .dataframe thead th {\n",
              "        text-align: right;\n",
              "    }\n",
              "</style>\n",
              "<table border=\"1\" class=\"dataframe\">\n",
              "  <thead>\n",
              "    <tr style=\"text-align: right;\">\n",
              "      <th></th>\n",
              "      <th>AMT_BALANCE</th>\n",
              "      <th>AMT_CREDIT_LIMIT_ACTUAL</th>\n",
              "      <th>AMT_DRAWINGS_CURRENT</th>\n",
              "      <th>AMT_INST_MIN_REGULARITY</th>\n",
              "      <th>AMT_RECEIVABLE_PRINCIPAL</th>\n",
              "      <th>NAME_CONTRACT_STATUS</th>\n",
              "    </tr>\n",
              "  </thead>\n",
              "  <tbody>\n",
              "    <tr>\n",
              "      <th>0</th>\n",
              "      <td>56.970</td>\n",
              "      <td>135000</td>\n",
              "      <td>877.500</td>\n",
              "      <td>1700.325</td>\n",
              "      <td>0.000</td>\n",
              "      <td>Active</td>\n",
              "    </tr>\n",
              "    <tr>\n",
              "      <th>1</th>\n",
              "      <td>63975.555</td>\n",
              "      <td>45000</td>\n",
              "      <td>2250.000</td>\n",
              "      <td>2250.000</td>\n",
              "      <td>60175.080</td>\n",
              "      <td>Active</td>\n",
              "    </tr>\n",
              "    <tr>\n",
              "      <th>2</th>\n",
              "      <td>31815.225</td>\n",
              "      <td>450000</td>\n",
              "      <td>0.000</td>\n",
              "      <td>2250.000</td>\n",
              "      <td>26926.425</td>\n",
              "      <td>Active</td>\n",
              "    </tr>\n",
              "    <tr>\n",
              "      <th>3</th>\n",
              "      <td>236572.110</td>\n",
              "      <td>225000</td>\n",
              "      <td>2250.000</td>\n",
              "      <td>11795.760</td>\n",
              "      <td>224949.285</td>\n",
              "      <td>Active</td>\n",
              "    </tr>\n",
              "    <tr>\n",
              "      <th>4</th>\n",
              "      <td>453919.455</td>\n",
              "      <td>450000</td>\n",
              "      <td>11547.000</td>\n",
              "      <td>22924.890</td>\n",
              "      <td>443044.395</td>\n",
              "      <td>Active</td>\n",
              "    </tr>\n",
              "    <tr>\n",
              "      <th>5</th>\n",
              "      <td>82903.815</td>\n",
              "      <td>270000</td>\n",
              "      <td>0.000</td>\n",
              "      <td>4449.105</td>\n",
              "      <td>80519.040</td>\n",
              "      <td>Active</td>\n",
              "    </tr>\n",
              "    <tr>\n",
              "      <th>6</th>\n",
              "      <td>353451.645</td>\n",
              "      <td>585000</td>\n",
              "      <td>67500.000</td>\n",
              "      <td>14684.175</td>\n",
              "      <td>345433.860</td>\n",
              "      <td>Active</td>\n",
              "    </tr>\n",
              "    <tr>\n",
              "      <th>7</th>\n",
              "      <td>47962.125</td>\n",
              "      <td>45000</td>\n",
              "      <td>45000.000</td>\n",
              "      <td>0.000</td>\n",
              "      <td>44735.310</td>\n",
              "      <td>Active</td>\n",
              "    </tr>\n",
              "    <tr>\n",
              "      <th>8</th>\n",
              "      <td>291543.075</td>\n",
              "      <td>292500</td>\n",
              "      <td>289339.425</td>\n",
              "      <td>130.500</td>\n",
              "      <td>285376.410</td>\n",
              "      <td>Active</td>\n",
              "    </tr>\n",
              "    <tr>\n",
              "      <th>9</th>\n",
              "      <td>201261.195</td>\n",
              "      <td>225000</td>\n",
              "      <td>111026.700</td>\n",
              "      <td>6338.340</td>\n",
              "      <td>192793.275</td>\n",
              "      <td>Active</td>\n",
              "    </tr>\n",
              "  </tbody>\n",
              "</table>\n",
              "</div>\n",
              "      <button class=\"colab-df-convert\" onclick=\"convertToInteractive('df-42513daf-090c-4fd9-b1f0-fa3bebf2d5d9')\"\n",
              "              title=\"Convert this dataframe to an interactive table.\"\n",
              "              style=\"display:none;\">\n",
              "        \n",
              "  <svg xmlns=\"http://www.w3.org/2000/svg\" height=\"24px\"viewBox=\"0 0 24 24\"\n",
              "       width=\"24px\">\n",
              "    <path d=\"M0 0h24v24H0V0z\" fill=\"none\"/>\n",
              "    <path d=\"M18.56 5.44l.94 2.06.94-2.06 2.06-.94-2.06-.94-.94-2.06-.94 2.06-2.06.94zm-11 1L8.5 8.5l.94-2.06 2.06-.94-2.06-.94L8.5 2.5l-.94 2.06-2.06.94zm10 10l.94 2.06.94-2.06 2.06-.94-2.06-.94-.94-2.06-.94 2.06-2.06.94z\"/><path d=\"M17.41 7.96l-1.37-1.37c-.4-.4-.92-.59-1.43-.59-.52 0-1.04.2-1.43.59L10.3 9.45l-7.72 7.72c-.78.78-.78 2.05 0 2.83L4 21.41c.39.39.9.59 1.41.59.51 0 1.02-.2 1.41-.59l7.78-7.78 2.81-2.81c.8-.78.8-2.07 0-2.86zM5.41 20L4 18.59l7.72-7.72 1.47 1.35L5.41 20z\"/>\n",
              "  </svg>\n",
              "      </button>\n",
              "      \n",
              "  <style>\n",
              "    .colab-df-container {\n",
              "      display:flex;\n",
              "      flex-wrap:wrap;\n",
              "      gap: 12px;\n",
              "    }\n",
              "\n",
              "    .colab-df-convert {\n",
              "      background-color: #E8F0FE;\n",
              "      border: none;\n",
              "      border-radius: 50%;\n",
              "      cursor: pointer;\n",
              "      display: none;\n",
              "      fill: #1967D2;\n",
              "      height: 32px;\n",
              "      padding: 0 0 0 0;\n",
              "      width: 32px;\n",
              "    }\n",
              "\n",
              "    .colab-df-convert:hover {\n",
              "      background-color: #E2EBFA;\n",
              "      box-shadow: 0px 1px 2px rgba(60, 64, 67, 0.3), 0px 1px 3px 1px rgba(60, 64, 67, 0.15);\n",
              "      fill: #174EA6;\n",
              "    }\n",
              "\n",
              "    [theme=dark] .colab-df-convert {\n",
              "      background-color: #3B4455;\n",
              "      fill: #D2E3FC;\n",
              "    }\n",
              "\n",
              "    [theme=dark] .colab-df-convert:hover {\n",
              "      background-color: #434B5C;\n",
              "      box-shadow: 0px 1px 3px 1px rgba(0, 0, 0, 0.15);\n",
              "      filter: drop-shadow(0px 1px 2px rgba(0, 0, 0, 0.3));\n",
              "      fill: #FFFFFF;\n",
              "    }\n",
              "  </style>\n",
              "\n",
              "      <script>\n",
              "        const buttonEl =\n",
              "          document.querySelector('#df-42513daf-090c-4fd9-b1f0-fa3bebf2d5d9 button.colab-df-convert');\n",
              "        buttonEl.style.display =\n",
              "          google.colab.kernel.accessAllowed ? 'block' : 'none';\n",
              "\n",
              "        async function convertToInteractive(key) {\n",
              "          const element = document.querySelector('#df-42513daf-090c-4fd9-b1f0-fa3bebf2d5d9');\n",
              "          const dataTable =\n",
              "            await google.colab.kernel.invokeFunction('convertToInteractive',\n",
              "                                                     [key], {});\n",
              "          if (!dataTable) return;\n",
              "\n",
              "          const docLinkHtml = 'Like what you see? Visit the ' +\n",
              "            '<a target=\"_blank\" href=https://colab.research.google.com/notebooks/data_table.ipynb>data table notebook</a>'\n",
              "            + ' to learn more about interactive tables.';\n",
              "          element.innerHTML = '';\n",
              "          dataTable['output_type'] = 'display_data';\n",
              "          await google.colab.output.renderOutput(dataTable, element);\n",
              "          const docLink = document.createElement('div');\n",
              "          docLink.innerHTML = docLinkHtml;\n",
              "          element.appendChild(docLink);\n",
              "        }\n",
              "      </script>\n",
              "    </div>\n",
              "  </div>\n",
              "  "
            ]
          },
          "metadata": {},
          "execution_count": 8
        }
      ]
    },
    {
      "cell_type": "code",
      "source": [
        "df.info()"
      ],
      "metadata": {
        "colab": {
          "base_uri": "https://localhost:8080/"
        },
        "id": "J4PQKHZsy15l",
        "outputId": "2bb24176-6734-404a-da92-bfe454c7ef86"
      },
      "execution_count": 9,
      "outputs": [
        {
          "output_type": "stream",
          "name": "stdout",
          "text": [
            "<class 'pandas.core.frame.DataFrame'>\n",
            "RangeIndex: 3840312 entries, 0 to 3840311\n",
            "Data columns (total 6 columns):\n",
            " #   Column                    Dtype  \n",
            "---  ------                    -----  \n",
            " 0   AMT_BALANCE               float64\n",
            " 1   AMT_CREDIT_LIMIT_ACTUAL   int64  \n",
            " 2   AMT_DRAWINGS_CURRENT      float64\n",
            " 3   AMT_INST_MIN_REGULARITY   float64\n",
            " 4   AMT_RECEIVABLE_PRINCIPAL  float64\n",
            " 5   NAME_CONTRACT_STATUS      object \n",
            "dtypes: float64(4), int64(1), object(1)\n",
            "memory usage: 175.8+ MB\n"
          ]
        }
      ]
    },
    {
      "cell_type": "code",
      "source": [
        "df.shape"
      ],
      "metadata": {
        "colab": {
          "base_uri": "https://localhost:8080/"
        },
        "id": "8hR9PXyVDwPu",
        "outputId": "2171b5b5-9568-4b84-c05d-4cdb5044388a"
      },
      "execution_count": 10,
      "outputs": [
        {
          "output_type": "execute_result",
          "data": {
            "text/plain": [
              "(3840312, 6)"
            ]
          },
          "metadata": {},
          "execution_count": 10
        }
      ]
    },
    {
      "cell_type": "code",
      "source": [
        "df.describe(include='all')"
      ],
      "metadata": {
        "colab": {
          "base_uri": "https://localhost:8080/",
          "height": 394
        },
        "id": "08etD9uAz2X2",
        "outputId": "0e172163-5047-4435-81fe-f6a2b5e45faa"
      },
      "execution_count": 11,
      "outputs": [
        {
          "output_type": "execute_result",
          "data": {
            "text/plain": [
              "         AMT_BALANCE  AMT_CREDIT_LIMIT_ACTUAL  AMT_DRAWINGS_CURRENT  \\\n",
              "count   3.840312e+06             3.840312e+06          3.840312e+06   \n",
              "unique           NaN                      NaN                   NaN   \n",
              "top              NaN                      NaN                   NaN   \n",
              "freq             NaN                      NaN                   NaN   \n",
              "mean    5.830016e+04             1.538080e+05          7.433388e+03   \n",
              "std     1.063070e+05             1.651457e+05          3.384608e+04   \n",
              "min    -4.202502e+05             0.000000e+00         -6.211620e+03   \n",
              "25%     0.000000e+00             4.500000e+04          0.000000e+00   \n",
              "50%     0.000000e+00             1.125000e+05          0.000000e+00   \n",
              "75%     8.904669e+04             1.800000e+05          0.000000e+00   \n",
              "max     1.505902e+06             1.350000e+06          2.287098e+06   \n",
              "\n",
              "        AMT_INST_MIN_REGULARITY  AMT_RECEIVABLE_PRINCIPAL NAME_CONTRACT_STATUS  \n",
              "count              3.535076e+06              3.840312e+06              3840312  \n",
              "unique                      NaN                       NaN                    7  \n",
              "top                         NaN                       NaN               Active  \n",
              "freq                        NaN                       NaN              3698436  \n",
              "mean               3.540204e+03              5.596588e+04                  NaN  \n",
              "std                5.600154e+03              1.025336e+05                  NaN  \n",
              "min                0.000000e+00             -4.233058e+05                  NaN  \n",
              "25%                0.000000e+00              0.000000e+00                  NaN  \n",
              "50%                0.000000e+00              0.000000e+00                  NaN  \n",
              "75%                6.633911e+03              8.535924e+04                  NaN  \n",
              "max                2.028820e+05              1.472317e+06                  NaN  "
            ],
            "text/html": [
              "\n",
              "  <div id=\"df-0e4a5d49-4e1d-4449-b12e-faa53d2dd4c7\">\n",
              "    <div class=\"colab-df-container\">\n",
              "      <div>\n",
              "<style scoped>\n",
              "    .dataframe tbody tr th:only-of-type {\n",
              "        vertical-align: middle;\n",
              "    }\n",
              "\n",
              "    .dataframe tbody tr th {\n",
              "        vertical-align: top;\n",
              "    }\n",
              "\n",
              "    .dataframe thead th {\n",
              "        text-align: right;\n",
              "    }\n",
              "</style>\n",
              "<table border=\"1\" class=\"dataframe\">\n",
              "  <thead>\n",
              "    <tr style=\"text-align: right;\">\n",
              "      <th></th>\n",
              "      <th>AMT_BALANCE</th>\n",
              "      <th>AMT_CREDIT_LIMIT_ACTUAL</th>\n",
              "      <th>AMT_DRAWINGS_CURRENT</th>\n",
              "      <th>AMT_INST_MIN_REGULARITY</th>\n",
              "      <th>AMT_RECEIVABLE_PRINCIPAL</th>\n",
              "      <th>NAME_CONTRACT_STATUS</th>\n",
              "    </tr>\n",
              "  </thead>\n",
              "  <tbody>\n",
              "    <tr>\n",
              "      <th>count</th>\n",
              "      <td>3.840312e+06</td>\n",
              "      <td>3.840312e+06</td>\n",
              "      <td>3.840312e+06</td>\n",
              "      <td>3.535076e+06</td>\n",
              "      <td>3.840312e+06</td>\n",
              "      <td>3840312</td>\n",
              "    </tr>\n",
              "    <tr>\n",
              "      <th>unique</th>\n",
              "      <td>NaN</td>\n",
              "      <td>NaN</td>\n",
              "      <td>NaN</td>\n",
              "      <td>NaN</td>\n",
              "      <td>NaN</td>\n",
              "      <td>7</td>\n",
              "    </tr>\n",
              "    <tr>\n",
              "      <th>top</th>\n",
              "      <td>NaN</td>\n",
              "      <td>NaN</td>\n",
              "      <td>NaN</td>\n",
              "      <td>NaN</td>\n",
              "      <td>NaN</td>\n",
              "      <td>Active</td>\n",
              "    </tr>\n",
              "    <tr>\n",
              "      <th>freq</th>\n",
              "      <td>NaN</td>\n",
              "      <td>NaN</td>\n",
              "      <td>NaN</td>\n",
              "      <td>NaN</td>\n",
              "      <td>NaN</td>\n",
              "      <td>3698436</td>\n",
              "    </tr>\n",
              "    <tr>\n",
              "      <th>mean</th>\n",
              "      <td>5.830016e+04</td>\n",
              "      <td>1.538080e+05</td>\n",
              "      <td>7.433388e+03</td>\n",
              "      <td>3.540204e+03</td>\n",
              "      <td>5.596588e+04</td>\n",
              "      <td>NaN</td>\n",
              "    </tr>\n",
              "    <tr>\n",
              "      <th>std</th>\n",
              "      <td>1.063070e+05</td>\n",
              "      <td>1.651457e+05</td>\n",
              "      <td>3.384608e+04</td>\n",
              "      <td>5.600154e+03</td>\n",
              "      <td>1.025336e+05</td>\n",
              "      <td>NaN</td>\n",
              "    </tr>\n",
              "    <tr>\n",
              "      <th>min</th>\n",
              "      <td>-4.202502e+05</td>\n",
              "      <td>0.000000e+00</td>\n",
              "      <td>-6.211620e+03</td>\n",
              "      <td>0.000000e+00</td>\n",
              "      <td>-4.233058e+05</td>\n",
              "      <td>NaN</td>\n",
              "    </tr>\n",
              "    <tr>\n",
              "      <th>25%</th>\n",
              "      <td>0.000000e+00</td>\n",
              "      <td>4.500000e+04</td>\n",
              "      <td>0.000000e+00</td>\n",
              "      <td>0.000000e+00</td>\n",
              "      <td>0.000000e+00</td>\n",
              "      <td>NaN</td>\n",
              "    </tr>\n",
              "    <tr>\n",
              "      <th>50%</th>\n",
              "      <td>0.000000e+00</td>\n",
              "      <td>1.125000e+05</td>\n",
              "      <td>0.000000e+00</td>\n",
              "      <td>0.000000e+00</td>\n",
              "      <td>0.000000e+00</td>\n",
              "      <td>NaN</td>\n",
              "    </tr>\n",
              "    <tr>\n",
              "      <th>75%</th>\n",
              "      <td>8.904669e+04</td>\n",
              "      <td>1.800000e+05</td>\n",
              "      <td>0.000000e+00</td>\n",
              "      <td>6.633911e+03</td>\n",
              "      <td>8.535924e+04</td>\n",
              "      <td>NaN</td>\n",
              "    </tr>\n",
              "    <tr>\n",
              "      <th>max</th>\n",
              "      <td>1.505902e+06</td>\n",
              "      <td>1.350000e+06</td>\n",
              "      <td>2.287098e+06</td>\n",
              "      <td>2.028820e+05</td>\n",
              "      <td>1.472317e+06</td>\n",
              "      <td>NaN</td>\n",
              "    </tr>\n",
              "  </tbody>\n",
              "</table>\n",
              "</div>\n",
              "      <button class=\"colab-df-convert\" onclick=\"convertToInteractive('df-0e4a5d49-4e1d-4449-b12e-faa53d2dd4c7')\"\n",
              "              title=\"Convert this dataframe to an interactive table.\"\n",
              "              style=\"display:none;\">\n",
              "        \n",
              "  <svg xmlns=\"http://www.w3.org/2000/svg\" height=\"24px\"viewBox=\"0 0 24 24\"\n",
              "       width=\"24px\">\n",
              "    <path d=\"M0 0h24v24H0V0z\" fill=\"none\"/>\n",
              "    <path d=\"M18.56 5.44l.94 2.06.94-2.06 2.06-.94-2.06-.94-.94-2.06-.94 2.06-2.06.94zm-11 1L8.5 8.5l.94-2.06 2.06-.94-2.06-.94L8.5 2.5l-.94 2.06-2.06.94zm10 10l.94 2.06.94-2.06 2.06-.94-2.06-.94-.94-2.06-.94 2.06-2.06.94z\"/><path d=\"M17.41 7.96l-1.37-1.37c-.4-.4-.92-.59-1.43-.59-.52 0-1.04.2-1.43.59L10.3 9.45l-7.72 7.72c-.78.78-.78 2.05 0 2.83L4 21.41c.39.39.9.59 1.41.59.51 0 1.02-.2 1.41-.59l7.78-7.78 2.81-2.81c.8-.78.8-2.07 0-2.86zM5.41 20L4 18.59l7.72-7.72 1.47 1.35L5.41 20z\"/>\n",
              "  </svg>\n",
              "      </button>\n",
              "      \n",
              "  <style>\n",
              "    .colab-df-container {\n",
              "      display:flex;\n",
              "      flex-wrap:wrap;\n",
              "      gap: 12px;\n",
              "    }\n",
              "\n",
              "    .colab-df-convert {\n",
              "      background-color: #E8F0FE;\n",
              "      border: none;\n",
              "      border-radius: 50%;\n",
              "      cursor: pointer;\n",
              "      display: none;\n",
              "      fill: #1967D2;\n",
              "      height: 32px;\n",
              "      padding: 0 0 0 0;\n",
              "      width: 32px;\n",
              "    }\n",
              "\n",
              "    .colab-df-convert:hover {\n",
              "      background-color: #E2EBFA;\n",
              "      box-shadow: 0px 1px 2px rgba(60, 64, 67, 0.3), 0px 1px 3px 1px rgba(60, 64, 67, 0.15);\n",
              "      fill: #174EA6;\n",
              "    }\n",
              "\n",
              "    [theme=dark] .colab-df-convert {\n",
              "      background-color: #3B4455;\n",
              "      fill: #D2E3FC;\n",
              "    }\n",
              "\n",
              "    [theme=dark] .colab-df-convert:hover {\n",
              "      background-color: #434B5C;\n",
              "      box-shadow: 0px 1px 3px 1px rgba(0, 0, 0, 0.15);\n",
              "      filter: drop-shadow(0px 1px 2px rgba(0, 0, 0, 0.3));\n",
              "      fill: #FFFFFF;\n",
              "    }\n",
              "  </style>\n",
              "\n",
              "      <script>\n",
              "        const buttonEl =\n",
              "          document.querySelector('#df-0e4a5d49-4e1d-4449-b12e-faa53d2dd4c7 button.colab-df-convert');\n",
              "        buttonEl.style.display =\n",
              "          google.colab.kernel.accessAllowed ? 'block' : 'none';\n",
              "\n",
              "        async function convertToInteractive(key) {\n",
              "          const element = document.querySelector('#df-0e4a5d49-4e1d-4449-b12e-faa53d2dd4c7');\n",
              "          const dataTable =\n",
              "            await google.colab.kernel.invokeFunction('convertToInteractive',\n",
              "                                                     [key], {});\n",
              "          if (!dataTable) return;\n",
              "\n",
              "          const docLinkHtml = 'Like what you see? Visit the ' +\n",
              "            '<a target=\"_blank\" href=https://colab.research.google.com/notebooks/data_table.ipynb>data table notebook</a>'\n",
              "            + ' to learn more about interactive tables.';\n",
              "          element.innerHTML = '';\n",
              "          dataTable['output_type'] = 'display_data';\n",
              "          await google.colab.output.renderOutput(dataTable, element);\n",
              "          const docLink = document.createElement('div');\n",
              "          docLink.innerHTML = docLinkHtml;\n",
              "          element.appendChild(docLink);\n",
              "        }\n",
              "      </script>\n",
              "    </div>\n",
              "  </div>\n",
              "  "
            ]
          },
          "metadata": {},
          "execution_count": 11
        }
      ]
    },
    {
      "cell_type": "code",
      "source": [
        "missing_data = df.isnull()\n",
        "\n",
        "# menghitung missing values per kolom dengan for\n",
        "for column in missing_data.columns.values.tolist():\n",
        "    print(column)\n",
        "    print(missing_data[column].value_counts())\n",
        "    print(\"\") "
      ],
      "metadata": {
        "colab": {
          "base_uri": "https://localhost:8080/"
        },
        "id": "cFBiAO5h9sVb",
        "outputId": "56a1f736-b6bd-4299-ff1d-08bff08fd660"
      },
      "execution_count": 13,
      "outputs": [
        {
          "output_type": "stream",
          "name": "stdout",
          "text": [
            "AMT_BALANCE\n",
            "False    3840312\n",
            "Name: AMT_BALANCE, dtype: int64\n",
            "\n",
            "AMT_CREDIT_LIMIT_ACTUAL\n",
            "False    3840312\n",
            "Name: AMT_CREDIT_LIMIT_ACTUAL, dtype: int64\n",
            "\n",
            "AMT_DRAWINGS_CURRENT\n",
            "False    3840312\n",
            "Name: AMT_DRAWINGS_CURRENT, dtype: int64\n",
            "\n",
            "AMT_INST_MIN_REGULARITY\n",
            "False    3535076\n",
            "True      305236\n",
            "Name: AMT_INST_MIN_REGULARITY, dtype: int64\n",
            "\n",
            "AMT_RECEIVABLE_PRINCIPAL\n",
            "False    3840312\n",
            "Name: AMT_RECEIVABLE_PRINCIPAL, dtype: int64\n",
            "\n",
            "NAME_CONTRACT_STATUS\n",
            "False    3840312\n",
            "Name: NAME_CONTRACT_STATUS, dtype: int64\n",
            "\n"
          ]
        }
      ]
    },
    {
      "cell_type": "markdown",
      "source": [
        "**Null value at** :AMT_DRAWINGS_ATM_CURRENT,\n",
        "AMT_DRAWINGS_OTHER_CURRENT,\n",
        "AMT_DRAWINGS_POS_CURRENT,\n",
        "AMT_INST_MIN_REGULARITY,\n",
        "AMT_PAYMENT_CURRENT,\n",
        "CNT_DRAWINGS_ATM_CURRENT,\n",
        "CNT_DRAWINGS_OTHER_CURRENT,\n",
        "CNT_DRAWINGS_POS_CURRENT,\n",
        "CNT_INSTALMENT_MATURE_CUM"
      ],
      "metadata": {
        "id": "fIRSYCGA_wCU"
      }
    },
    {
      "cell_type": "code",
      "source": [
        "mean_AMT_INST_MIN_REGULARITY = df[\"AMT_INST_MIN_REGULARITY\"].mean(axis=0)\n",
        "\n",
        "df[\"AMT_INST_MIN_REGULARITY\"].replace(np.nan, mean_AMT_INST_MIN_REGULARITY, inplace=True)"
      ],
      "metadata": {
        "id": "fwB3axpvLoah"
      },
      "execution_count": 14,
      "outputs": []
    },
    {
      "cell_type": "markdown",
      "source": [
        "no null values, "
      ],
      "metadata": {
        "id": "xcp06DJx9eWR"
      }
    },
    {
      "cell_type": "code",
      "source": [
        "df.duplicated().sum()"
      ],
      "metadata": {
        "colab": {
          "base_uri": "https://localhost:8080/"
        },
        "id": "XLG-s3tVLINI",
        "outputId": "c1e97ab7-9430-4a51-9368-a4454c84c511"
      },
      "execution_count": 15,
      "outputs": [
        {
          "output_type": "execute_result",
          "data": {
            "text/plain": [
              "2204578"
            ]
          },
          "metadata": {},
          "execution_count": 15
        }
      ]
    },
    {
      "cell_type": "code",
      "source": [
        "df.drop_duplicates(inplace=True)"
      ],
      "metadata": {
        "id": "0GqPaNg6NXnc"
      },
      "execution_count": 16,
      "outputs": []
    },
    {
      "cell_type": "code",
      "source": [
        "from sklearn.preprocessing import MinMaxScaler\n",
        "\n",
        "# Select the columns to be scaled\n",
        "cols_to_scale = ['AMT_BALANCE', 'AMT_CREDIT_LIMIT_ACTUAL', 'AMT_DRAWINGS_CURRENT', 'AMT_INST_MIN_REGULARITY', 'AMT_RECEIVABLE_PRINCIPAL']\n",
        "\n",
        "# Initialize the scaler\n",
        "scaler = MinMaxScaler()\n",
        "\n",
        "# Fit and transform the selected columns\n",
        "df[cols_to_scale] = scaler.fit_transform(df[cols_to_scale])\n",
        "\n",
        "# df['hero_damage'] = (df['hero_damage']-df['hero_damage'].min())/(df['hero_damage'].max()-df['hero_damage'].min())\n",
        "# AMT_DRAWINGS_ATM_CURRENT \tAMT_DRAWINGS_CURRENT"
      ],
      "metadata": {
        "id": "vIRZbjpuSaCz"
      },
      "execution_count": 17,
      "outputs": []
    },
    {
      "cell_type": "code",
      "source": [
        "# Scatter plot of credit limit vs. balance\n",
        "sns.scatterplot(x='AMT_CREDIT_LIMIT_ACTUAL', y='AMT_BALANCE', data=df)"
      ],
      "metadata": {
        "colab": {
          "base_uri": "https://localhost:8080/",
          "height": 467
        },
        "id": "IXNiAjs1AFom",
        "outputId": "46def493-37e4-4eee-d43b-b9a8fd3dbe5d"
      },
      "execution_count": 18,
      "outputs": [
        {
          "output_type": "execute_result",
          "data": {
            "text/plain": [
              "<Axes: xlabel='AMT_CREDIT_LIMIT_ACTUAL', ylabel='AMT_BALANCE'>"
            ]
          },
          "metadata": {},
          "execution_count": 18
        },
        {
          "output_type": "display_data",
          "data": {
            "text/plain": [
              "<Figure size 640x480 with 1 Axes>"
            ],
            "image/png": "[encoded data removed]"
          },
          "metadata": {}
        }
      ]
    },
    {
      "cell_type": "code",
      "source": [
        "# Histogram of credit limit distribution\n",
        "sns.histplot(df['AMT_CREDIT_LIMIT_ACTUAL'], kde=True)"
      ],
      "metadata": {
        "colab": {
          "base_uri": "https://localhost:8080/",
          "height": 467
        },
        "id": "KO7GWuDyAvbF",
        "outputId": "93937d70-9c60-4415-c95e-ae6fc1647b94"
      },
      "execution_count": 19,
      "outputs": [
        {
          "output_type": "execute_result",
          "data": {
            "text/plain": [
              "<Axes: xlabel='AMT_CREDIT_LIMIT_ACTUAL', ylabel='Count'>"
            ]
          },
          "metadata": {},
          "execution_count": 19
        },
        {
          "output_type": "display_data",
          "data": {
            "text/plain": [
              "<Figure size 640x480 with 1 Axes>"
            ],
            "image/png": "[encoded data removed]"
          },
          "metadata": {}
        }
      ]
    },
    {
      "cell_type": "code",
      "source": [
        "# Box plot of credit limit vs. contract status\n",
        "sns.boxplot(x='NAME_CONTRACT_STATUS', y='AMT_CREDIT_LIMIT_ACTUAL', data=df)"
      ],
      "metadata": {
        "colab": {
          "base_uri": "https://localhost:8080/",
          "height": 467
        },
        "id": "fLlWcqqaAyA8",
        "outputId": "f662a2bb-2ce5-43c6-fe8f-5c53065f56e6"
      },
      "execution_count": 20,
      "outputs": [
        {
          "output_type": "execute_result",
          "data": {
            "text/plain": [
              "<Axes: xlabel='NAME_CONTRACT_STATUS', ylabel='AMT_CREDIT_LIMIT_ACTUAL'>"
            ]
          },
          "metadata": {},
          "execution_count": 20
        },
        {
          "output_type": "display_data",
          "data": {
            "text/plain": [
              "<Figure size 640x480 with 1 Axes>"
            ],
            "image/png": "[encoded data removed]"
          },
          "metadata": {}
        }
      ]
    },
    {
      "cell_type": "code",
      "source": [
        "# Create a new feature that calculates the ratio of balance to credit limit\n",
        "df['BALANCE_CREDIT_RATIO'] = df['AMT_BALANCE'] / df['AMT_CREDIT_LIMIT_ACTUAL']\n",
        "\n",
        "# Create a new feature that calculates the difference between receivable principal and balance\n",
        "df['RECEIVABLE_PRINCIPAL_DIFF'] = df['AMT_RECEIVABLE_PRINCIPAL'] - df['AMT_BALANCE']"
      ],
      "metadata": {
        "id": "TUNXyUGMJG79"
      },
      "execution_count": 21,
      "outputs": []
    },
    {
      "cell_type": "code",
      "source": [
        "df.dropna(inplace=True)"
      ],
      "metadata": {
        "id": "NQl9T1HtKJuB"
      },
      "execution_count": 38,
      "outputs": []
    },
    {
      "cell_type": "code",
      "source": [
        "df.head()"
      ],
      "metadata": {
        "colab": {
          "base_uri": "https://localhost:8080/",
          "height": 270
        },
        "id": "f6TDRxdvKyoN",
        "outputId": "1b1889a5-0a5b-4725-cb09-3237d261b517"
      },
      "execution_count": 29,
      "outputs": [
        {
          "output_type": "execute_result",
          "data": {
            "text/plain": [
              "   AMT_BALANCE  AMT_CREDIT_LIMIT_ACTUAL  AMT_DRAWINGS_CURRENT  \\\n",
              "0     0.218211                 0.100000              0.003091   \n",
              "1     0.251395                 0.033333              0.003690   \n",
              "2     0.234699                 0.333333              0.002709   \n",
              "3     0.341002                 0.166667              0.003690   \n",
              "4     0.453842                 0.333333              0.007744   \n",
              "\n",
              "   AMT_INST_MIN_REGULARITY  AMT_RECEIVABLE_PRINCIPAL NAME_CONTRACT_STATUS  \\\n",
              "0                 0.008381                  0.223307               Active   \n",
              "1                 0.011090                  0.255051               Active   \n",
              "2                 0.011090                  0.237512               Active   \n",
              "3                 0.058141                  0.341975               Active   \n",
              "4                 0.112996                  0.457027               Active   \n",
              "\n",
              "   BALANCE_CREDIT_RATIO  RECEIVABLE_PRINCIPAL_DIFF  \n",
              "0              2.182108                   0.005096  \n",
              "1              7.541860                   0.003656  \n",
              "2              0.704096                   0.002813  \n",
              "3              2.046014                   0.000973  \n",
              "4              1.361527                   0.003184  "
            ],
            "text/html": [
              "\n",
              "  <div id=\"df-16c84e7f-6d9c-4ea2-8910-d5ab15c07ae8\">\n",
              "    <div class=\"colab-df-container\">\n",
              "      <div>\n",
              "<style scoped>\n",
              "    .dataframe tbody tr th:only-of-type {\n",
              "        vertical-align: middle;\n",
              "    }\n",
              "\n",
              "    .dataframe tbody tr th {\n",
              "        vertical-align: top;\n",
              "    }\n",
              "\n",
              "    .dataframe thead th {\n",
              "        text-align: right;\n",
              "    }\n",
              "</style>\n",
              "<table border=\"1\" class=\"dataframe\">\n",
              "  <thead>\n",
              "    <tr style=\"text-align: right;\">\n",
              "      <th></th>\n",
              "      <th>AMT_BALANCE</th>\n",
              "      <th>AMT_CREDIT_LIMIT_ACTUAL</th>\n",
              "      <th>AMT_DRAWINGS_CURRENT</th>\n",
              "      <th>AMT_INST_MIN_REGULARITY</th>\n",
              "      <th>AMT_RECEIVABLE_PRINCIPAL</th>\n",
              "      <th>NAME_CONTRACT_STATUS</th>\n",
              "      <th>BALANCE_CREDIT_RATIO</th>\n",
              "      <th>RECEIVABLE_PRINCIPAL_DIFF</th>\n",
              "    </tr>\n",
              "  </thead>\n",
              "  <tbody>\n",
              "    <tr>\n",
              "      <th>0</th>\n",
              "      <td>0.218211</td>\n",
              "      <td>0.100000</td>\n",
              "      <td>0.003091</td>\n",
              "      <td>0.008381</td>\n",
              "      <td>0.223307</td>\n",
              "      <td>Active</td>\n",
              "      <td>2.182108</td>\n",
              "      <td>0.005096</td>\n",
              "    </tr>\n",
              "    <tr>\n",
              "      <th>1</th>\n",
              "      <td>0.251395</td>\n",
              "      <td>0.033333</td>\n",
              "      <td>0.003690</td>\n",
              "      <td>0.011090</td>\n",
              "      <td>0.255051</td>\n",
              "      <td>Active</td>\n",
              "      <td>7.541860</td>\n",
              "      <td>0.003656</td>\n",
              "    </tr>\n",
              "    <tr>\n",
              "      <th>2</th>\n",
              "      <td>0.234699</td>\n",
              "      <td>0.333333</td>\n",
              "      <td>0.002709</td>\n",
              "      <td>0.011090</td>\n",
              "      <td>0.237512</td>\n",
              "      <td>Active</td>\n",
              "      <td>0.704096</td>\n",
              "      <td>0.002813</td>\n",
              "    </tr>\n",
              "    <tr>\n",
              "      <th>3</th>\n",
              "      <td>0.341002</td>\n",
              "      <td>0.166667</td>\n",
              "      <td>0.003690</td>\n",
              "      <td>0.058141</td>\n",
              "      <td>0.341975</td>\n",
              "      <td>Active</td>\n",
              "      <td>2.046014</td>\n",
              "      <td>0.000973</td>\n",
              "    </tr>\n",
              "    <tr>\n",
              "      <th>4</th>\n",
              "      <td>0.453842</td>\n",
              "      <td>0.333333</td>\n",
              "      <td>0.007744</td>\n",
              "      <td>0.112996</td>\n",
              "      <td>0.457027</td>\n",
              "      <td>Active</td>\n",
              "      <td>1.361527</td>\n",
              "      <td>0.003184</td>\n",
              "    </tr>\n",
              "  </tbody>\n",
              "</table>\n",
              "</div>\n",
              "      <button class=\"colab-df-convert\" onclick=\"convertToInteractive('df-16c84e7f-6d9c-4ea2-8910-d5ab15c07ae8')\"\n",
              "              title=\"Convert this dataframe to an interactive table.\"\n",
              "              style=\"display:none;\">\n",
              "        \n",
              "  <svg xmlns=\"http://www.w3.org/2000/svg\" height=\"24px\"viewBox=\"0 0 24 24\"\n",
              "       width=\"24px\">\n",
              "    <path d=\"M0 0h24v24H0V0z\" fill=\"none\"/>\n",
              "    <path d=\"M18.56 5.44l.94 2.06.94-2.06 2.06-.94-2.06-.94-.94-2.06-.94 2.06-2.06.94zm-11 1L8.5 8.5l.94-2.06 2.06-.94-2.06-.94L8.5 2.5l-.94 2.06-2.06.94zm10 10l.94 2.06.94-2.06 2.06-.94-2.06-.94-.94-2.06-.94 2.06-2.06.94z\"/><path d=\"M17.41 7.96l-1.37-1.37c-.4-.4-.92-.59-1.43-.59-.52 0-1.04.2-1.43.59L10.3 9.45l-7.72 7.72c-.78.78-.78 2.05 0 2.83L4 21.41c.39.39.9.59 1.41.59.51 0 1.02-.2 1.41-.59l7.78-7.78 2.81-2.81c.8-.78.8-2.07 0-2.86zM5.41 20L4 18.59l7.72-7.72 1.47 1.35L5.41 20z\"/>\n",
              "  </svg>\n",
              "      </button>\n",
              "      \n",
              "  <style>\n",
              "    .colab-df-container {\n",
              "      display:flex;\n",
              "      flex-wrap:wrap;\n",
              "      gap: 12px;\n",
              "    }\n",
              "\n",
              "    .colab-df-convert {\n",
              "      background-color: #E8F0FE;\n",
              "      border: none;\n",
              "      border-radius: 50%;\n",
              "      cursor: pointer;\n",
              "      display: none;\n",
              "      fill: #1967D2;\n",
              "      height: 32px;\n",
              "      padding: 0 0 0 0;\n",
              "      width: 32px;\n",
              "    }\n",
              "\n",
              "    .colab-df-convert:hover {\n",
              "      background-color: #E2EBFA;\n",
              "      box-shadow: 0px 1px 2px rgba(60, 64, 67, 0.3), 0px 1px 3px 1px rgba(60, 64, 67, 0.15);\n",
              "      fill: #174EA6;\n",
              "    }\n",
              "\n",
              "    [theme=dark] .colab-df-convert {\n",
              "      background-color: #3B4455;\n",
              "      fill: #D2E3FC;\n",
              "    }\n",
              "\n",
              "    [theme=dark] .colab-df-convert:hover {\n",
              "      background-color: #434B5C;\n",
              "      box-shadow: 0px 1px 3px 1px rgba(0, 0, 0, 0.15);\n",
              "      filter: drop-shadow(0px 1px 2px rgba(0, 0, 0, 0.3));\n",
              "      fill: #FFFFFF;\n",
              "    }\n",
              "  </style>\n",
              "\n",
              "      <script>\n",
              "        const buttonEl =\n",
              "          document.querySelector('#df-16c84e7f-6d9c-4ea2-8910-d5ab15c07ae8 button.colab-df-convert');\n",
              "        buttonEl.style.display =\n",
              "          google.colab.kernel.accessAllowed ? 'block' : 'none';\n",
              "\n",
              "        async function convertToInteractive(key) {\n",
              "          const element = document.querySelector('#df-16c84e7f-6d9c-4ea2-8910-d5ab15c07ae8');\n",
              "          const dataTable =\n",
              "            await google.colab.kernel.invokeFunction('convertToInteractive',\n",
              "                                                     [key], {});\n",
              "          if (!dataTable) return;\n",
              "\n",
              "          const docLinkHtml = 'Like what you see? Visit the ' +\n",
              "            '<a target=\"_blank\" href=https://colab.research.google.com/notebooks/data_table.ipynb>data table notebook</a>'\n",
              "            + ' to learn more about interactive tables.';\n",
              "          element.innerHTML = '';\n",
              "          dataTable['output_type'] = 'display_data';\n",
              "          await google.colab.output.renderOutput(dataTable, element);\n",
              "          const docLink = document.createElement('div');\n",
              "          docLink.innerHTML = docLinkHtml;\n",
              "          element.appendChild(docLink);\n",
              "        }\n",
              "      </script>\n",
              "    </div>\n",
              "  </div>\n",
              "  "
            ]
          },
          "metadata": {},
          "execution_count": 29
        }
      ]
    },
    {
      "cell_type": "code",
      "source": [
        "df.replace([np.inf, -np.inf], np.finfo(np.float64).max, inplace=True) # replaces inf and -inf values with the maximum float value\n",
        "print(np.isinf(df.values))"
      ],
      "metadata": {
        "colab": {
          "base_uri": "https://localhost:8080/",
          "height": 205
        },
        "id": "B1pzG_RAZy0H",
        "outputId": "7396dc6f-a897-4937-b2e4-9eb078efaeb9"
      },
      "execution_count": 42,
      "outputs": [
        {
          "output_type": "error",
          "ename": "TypeError",
          "evalue": "ignored",
          "traceback": [
            "\u001b[0;31m---------------------------------------------------------------------------\u001b[0m",
            "\u001b[0;31mTypeError\u001b[0m                                 Traceback (most recent call last)",
            "\u001b[0;32m<ipython-input-42-6b861a3f87f3>\u001b[0m in \u001b[0;36m<cell line: 2>\u001b[0;34m()\u001b[0m\n\u001b[1;32m      1\u001b[0m \u001b[0mdf\u001b[0m\u001b[0;34m.\u001b[0m\u001b[0mreplace\u001b[0m\u001b[0;34m(\u001b[0m\u001b[0;34m[\u001b[0m\u001b[0mnp\u001b[0m\u001b[0;34m.\u001b[0m\u001b[0minf\u001b[0m\u001b[0;34m,\u001b[0m \u001b[0;34m-\u001b[0m\u001b[0mnp\u001b[0m\u001b[0;34m.\u001b[0m\u001b[0minf\u001b[0m\u001b[0;34m]\u001b[0m\u001b[0;34m,\u001b[0m \u001b[0mnp\u001b[0m\u001b[0;34m.\u001b[0m\u001b[0mfinfo\u001b[0m\u001b[0;34m(\u001b[0m\u001b[0mnp\u001b[0m\u001b[0;34m.\u001b[0m\u001b[0mfloat64\u001b[0m\u001b[0;34m)\u001b[0m\u001b[0;34m.\u001b[0m\u001b[0mmax\u001b[0m\u001b[0;34m,\u001b[0m \u001b[0minplace\u001b[0m\u001b[0;34m=\u001b[0m\u001b[0;32mTrue\u001b[0m\u001b[0;34m)\u001b[0m \u001b[0;31m# replaces inf and -inf values with the maximum float value\u001b[0m\u001b[0;34m\u001b[0m\u001b[0;34m\u001b[0m\u001b[0m\n\u001b[0;32m----> 2\u001b[0;31m \u001b[0mprint\u001b[0m\u001b[0;34m(\u001b[0m\u001b[0mnp\u001b[0m\u001b[0;34m.\u001b[0m\u001b[0misinf\u001b[0m\u001b[0;34m(\u001b[0m\u001b[0mdf\u001b[0m\u001b[0;34m.\u001b[0m\u001b[0mvalues\u001b[0m\u001b[0;34m)\u001b[0m\u001b[0;34m)\u001b[0m\u001b[0;34m\u001b[0m\u001b[0;34m\u001b[0m\u001b[0m\n\u001b[0m",
            "\u001b[0;31mTypeError\u001b[0m: ufunc 'isinf' not supported for the input types, and the inputs could not be safely coerced to any supported types according to the casting rule ''safe''"
          ]
        }
      ]
    },
    {
      "cell_type": "code",
      "source": [
        "from sklearn.linear_model import LinearRegression\n",
        "from sklearn.model_selection import train_test_split\n",
        "from sklearn.metrics import mean_squared_error, r2_score\n",
        "\n",
        "# Split the data into training and testing sets\n",
        "X = df[['AMT_BALANCE', 'AMT_DRAWINGS_CURRENT', 'AMT_INST_MIN_REGULARITY', 'AMT_RECEIVABLE_PRINCIPAL', 'BALANCE_CREDIT_RATIO', 'RECEIVABLE_PRINCIPAL_DIFF']]\n",
        "y = df['AMT_CREDIT_LIMIT_ACTUAL']\n",
        "X_train, X_test, y_train, y_test = train_test_split(X, y, test_size=0.2, random_state=42)\n",
        "\n",
        "# Fit a linear regression model to the training data\n",
        "lr = LinearRegression()\n",
        "lr.fit(X_train, y_train)\n",
        "\n",
        "# Predict credit limits for the test data\n",
        "y_pred = lr.predict(X_test)\n",
        "\n",
        "# Evaluate the performance of the model\n",
        "mse = mean_squared_error(y_test, y_pred)\n",
        "r2 = r2_score(y_test, y_pred)\n",
        "print(f\"Mean squared error: {mse:.2f}\")\n",
        "print(f\"R-squared: {r2:.2f}\")\n",
        " "
      ],
      "metadata": {
        "colab": {
          "base_uri": "https://localhost:8080/",
          "height": 425
        },
        "id": "xLFDCq0WJYIB",
        "outputId": "66b1af06-0050-40b5-9025-c762aa2acdab"
      },
      "execution_count": 40,
      "outputs": [
        {
          "output_type": "stream",
          "name": "stderr",
          "text": [
            "/usr/local/lib/python3.9/dist-packages/numpy/core/_methods.py:48: RuntimeWarning: overflow encountered in reduce\n",
            "  return umr_sum(a, axis, dtype, out, keepdims, initial, where)\n"
          ]
        },
        {
          "output_type": "error",
          "ename": "ValueError",
          "evalue": "ignored",
          "traceback": [
            "\u001b[0;31m---------------------------------------------------------------------------\u001b[0m",
            "\u001b[0;31mValueError\u001b[0m                                Traceback (most recent call last)",
            "\u001b[0;32m<ipython-input-40-d8c524829840>\u001b[0m in \u001b[0;36m<cell line: 12>\u001b[0;34m()\u001b[0m\n\u001b[1;32m     10\u001b[0m \u001b[0;31m# Fit a linear regression model to the training data\u001b[0m\u001b[0;34m\u001b[0m\u001b[0;34m\u001b[0m\u001b[0m\n\u001b[1;32m     11\u001b[0m \u001b[0mlr\u001b[0m \u001b[0;34m=\u001b[0m \u001b[0mLinearRegression\u001b[0m\u001b[0;34m(\u001b[0m\u001b[0;34m)\u001b[0m\u001b[0;34m\u001b[0m\u001b[0;34m\u001b[0m\u001b[0m\n\u001b[0;32m---> 12\u001b[0;31m \u001b[0mlr\u001b[0m\u001b[0;34m.\u001b[0m\u001b[0mfit\u001b[0m\u001b[0;34m(\u001b[0m\u001b[0mX_train\u001b[0m\u001b[0;34m,\u001b[0m \u001b[0my_train\u001b[0m\u001b[0;34m)\u001b[0m\u001b[0;34m\u001b[0m\u001b[0;34m\u001b[0m\u001b[0m\n\u001b[0m\u001b[1;32m     13\u001b[0m \u001b[0;34m\u001b[0m\u001b[0m\n\u001b[1;32m     14\u001b[0m \u001b[0;31m# Predict credit limits for the test data\u001b[0m\u001b[0;34m\u001b[0m\u001b[0;34m\u001b[0m\u001b[0m\n",
            "\u001b[0;32m/usr/local/lib/python3.9/dist-packages/sklearn/linear_model/_base.py\u001b[0m in \u001b[0;36mfit\u001b[0;34m(self, X, y, sample_weight)\u001b[0m\n\u001b[1;32m    697\u001b[0m                 \u001b[0mself\u001b[0m\u001b[0;34m.\u001b[0m\u001b[0mcoef_\u001b[0m \u001b[0;34m=\u001b[0m \u001b[0mnp\u001b[0m\u001b[0;34m.\u001b[0m\u001b[0mvstack\u001b[0m\u001b[0;34m(\u001b[0m\u001b[0;34m[\u001b[0m\u001b[0mout\u001b[0m\u001b[0;34m[\u001b[0m\u001b[0;36m0\u001b[0m\u001b[0;34m]\u001b[0m \u001b[0;32mfor\u001b[0m \u001b[0mout\u001b[0m \u001b[0;32min\u001b[0m \u001b[0mouts\u001b[0m\u001b[0;34m]\u001b[0m\u001b[0;34m)\u001b[0m\u001b[0;34m\u001b[0m\u001b[0;34m\u001b[0m\u001b[0m\n\u001b[1;32m    698\u001b[0m         \u001b[0;32melse\u001b[0m\u001b[0;34m:\u001b[0m\u001b[0;34m\u001b[0m\u001b[0;34m\u001b[0m\u001b[0m\n\u001b[0;32m--> 699\u001b[0;31m             \u001b[0mself\u001b[0m\u001b[0;34m.\u001b[0m\u001b[0mcoef_\u001b[0m\u001b[0;34m,\u001b[0m \u001b[0m_\u001b[0m\u001b[0;34m,\u001b[0m \u001b[0mself\u001b[0m\u001b[0;34m.\u001b[0m\u001b[0mrank_\u001b[0m\u001b[0;34m,\u001b[0m \u001b[0mself\u001b[0m\u001b[0;34m.\u001b[0m\u001b[0msingular_\u001b[0m \u001b[0;34m=\u001b[0m \u001b[0mlinalg\u001b[0m\u001b[0;34m.\u001b[0m\u001b[0mlstsq\u001b[0m\u001b[0;34m(\u001b[0m\u001b[0mX\u001b[0m\u001b[0;34m,\u001b[0m \u001b[0my\u001b[0m\u001b[0;34m)\u001b[0m\u001b[0;34m\u001b[0m\u001b[0;34m\u001b[0m\u001b[0m\n\u001b[0m\u001b[1;32m    700\u001b[0m             \u001b[0mself\u001b[0m\u001b[0;34m.\u001b[0m\u001b[0mcoef_\u001b[0m \u001b[0;34m=\u001b[0m \u001b[0mself\u001b[0m\u001b[0;34m.\u001b[0m\u001b[0mcoef_\u001b[0m\u001b[0;34m.\u001b[0m\u001b[0mT\u001b[0m\u001b[0;34m\u001b[0m\u001b[0;34m\u001b[0m\u001b[0m\n\u001b[1;32m    701\u001b[0m \u001b[0;34m\u001b[0m\u001b[0m\n",
            "\u001b[0;32m/usr/local/lib/python3.9/dist-packages/scipy/linalg/_basic.py\u001b[0m in \u001b[0;36mlstsq\u001b[0;34m(a, b, cond, overwrite_a, overwrite_b, check_finite, lapack_driver)\u001b[0m\n\u001b[1;32m   1153\u001b[0m \u001b[0;34m\u001b[0m\u001b[0m\n\u001b[1;32m   1154\u001b[0m     \"\"\"\n\u001b[0;32m-> 1155\u001b[0;31m     \u001b[0ma1\u001b[0m \u001b[0;34m=\u001b[0m \u001b[0m_asarray_validated\u001b[0m\u001b[0;34m(\u001b[0m\u001b[0ma\u001b[0m\u001b[0;34m,\u001b[0m \u001b[0mcheck_finite\u001b[0m\u001b[0;34m=\u001b[0m\u001b[0mcheck_finite\u001b[0m\u001b[0;34m)\u001b[0m\u001b[0;34m\u001b[0m\u001b[0;34m\u001b[0m\u001b[0m\n\u001b[0m\u001b[1;32m   1156\u001b[0m     \u001b[0mb1\u001b[0m \u001b[0;34m=\u001b[0m \u001b[0m_asarray_validated\u001b[0m\u001b[0;34m(\u001b[0m\u001b[0mb\u001b[0m\u001b[0;34m,\u001b[0m \u001b[0mcheck_finite\u001b[0m\u001b[0;34m=\u001b[0m\u001b[0mcheck_finite\u001b[0m\u001b[0;34m)\u001b[0m\u001b[0;34m\u001b[0m\u001b[0;34m\u001b[0m\u001b[0m\n\u001b[1;32m   1157\u001b[0m     \u001b[0;32mif\u001b[0m \u001b[0mlen\u001b[0m\u001b[0;34m(\u001b[0m\u001b[0ma1\u001b[0m\u001b[0;34m.\u001b[0m\u001b[0mshape\u001b[0m\u001b[0;34m)\u001b[0m \u001b[0;34m!=\u001b[0m \u001b[0;36m2\u001b[0m\u001b[0;34m:\u001b[0m\u001b[0;34m\u001b[0m\u001b[0;34m\u001b[0m\u001b[0m\n",
            "\u001b[0;32m/usr/local/lib/python3.9/dist-packages/scipy/_lib/_util.py\u001b[0m in \u001b[0;36m_asarray_validated\u001b[0;34m(a, check_finite, sparse_ok, objects_ok, mask_ok, as_inexact)\u001b[0m\n\u001b[1;32m    250\u001b[0m             \u001b[0;32mraise\u001b[0m \u001b[0mValueError\u001b[0m\u001b[0;34m(\u001b[0m\u001b[0;34m'masked arrays are not supported'\u001b[0m\u001b[0;34m)\u001b[0m\u001b[0;34m\u001b[0m\u001b[0;34m\u001b[0m\u001b[0m\n\u001b[1;32m    251\u001b[0m     \u001b[0mtoarray\u001b[0m \u001b[0;34m=\u001b[0m \u001b[0mnp\u001b[0m\u001b[0;34m.\u001b[0m\u001b[0masarray_chkfinite\u001b[0m \u001b[0;32mif\u001b[0m \u001b[0mcheck_finite\u001b[0m \u001b[0;32melse\u001b[0m \u001b[0mnp\u001b[0m\u001b[0;34m.\u001b[0m\u001b[0masarray\u001b[0m\u001b[0;34m\u001b[0m\u001b[0;34m\u001b[0m\u001b[0m\n\u001b[0;32m--> 252\u001b[0;31m     \u001b[0ma\u001b[0m \u001b[0;34m=\u001b[0m \u001b[0mtoarray\u001b[0m\u001b[0;34m(\u001b[0m\u001b[0ma\u001b[0m\u001b[0;34m)\u001b[0m\u001b[0;34m\u001b[0m\u001b[0;34m\u001b[0m\u001b[0m\n\u001b[0m\u001b[1;32m    253\u001b[0m     \u001b[0;32mif\u001b[0m \u001b[0;32mnot\u001b[0m \u001b[0mobjects_ok\u001b[0m\u001b[0;34m:\u001b[0m\u001b[0;34m\u001b[0m\u001b[0;34m\u001b[0m\u001b[0m\n\u001b[1;32m    254\u001b[0m         \u001b[0;32mif\u001b[0m \u001b[0ma\u001b[0m\u001b[0;34m.\u001b[0m\u001b[0mdtype\u001b[0m \u001b[0;32mis\u001b[0m \u001b[0mnp\u001b[0m\u001b[0;34m.\u001b[0m\u001b[0mdtype\u001b[0m\u001b[0;34m(\u001b[0m\u001b[0;34m'O'\u001b[0m\u001b[0;34m)\u001b[0m\u001b[0;34m:\u001b[0m\u001b[0;34m\u001b[0m\u001b[0;34m\u001b[0m\u001b[0m\n",
            "\u001b[0;32m/usr/local/lib/python3.9/dist-packages/numpy/lib/function_base.py\u001b[0m in \u001b[0;36masarray_chkfinite\u001b[0;34m(a, dtype, order)\u001b[0m\n\u001b[1;32m    601\u001b[0m     \u001b[0ma\u001b[0m \u001b[0;34m=\u001b[0m \u001b[0masarray\u001b[0m\u001b[0;34m(\u001b[0m\u001b[0ma\u001b[0m\u001b[0;34m,\u001b[0m \u001b[0mdtype\u001b[0m\u001b[0;34m=\u001b[0m\u001b[0mdtype\u001b[0m\u001b[0;34m,\u001b[0m \u001b[0morder\u001b[0m\u001b[0;34m=\u001b[0m\u001b[0morder\u001b[0m\u001b[0;34m)\u001b[0m\u001b[0;34m\u001b[0m\u001b[0;34m\u001b[0m\u001b[0m\n\u001b[1;32m    602\u001b[0m     \u001b[0;32mif\u001b[0m \u001b[0ma\u001b[0m\u001b[0;34m.\u001b[0m\u001b[0mdtype\u001b[0m\u001b[0;34m.\u001b[0m\u001b[0mchar\u001b[0m \u001b[0;32min\u001b[0m \u001b[0mtypecodes\u001b[0m\u001b[0;34m[\u001b[0m\u001b[0;34m'AllFloat'\u001b[0m\u001b[0;34m]\u001b[0m \u001b[0;32mand\u001b[0m \u001b[0;32mnot\u001b[0m \u001b[0mnp\u001b[0m\u001b[0;34m.\u001b[0m\u001b[0misfinite\u001b[0m\u001b[0;34m(\u001b[0m\u001b[0ma\u001b[0m\u001b[0;34m)\u001b[0m\u001b[0;34m.\u001b[0m\u001b[0mall\u001b[0m\u001b[0;34m(\u001b[0m\u001b[0;34m)\u001b[0m\u001b[0;34m:\u001b[0m\u001b[0;34m\u001b[0m\u001b[0;34m\u001b[0m\u001b[0m\n\u001b[0;32m--> 603\u001b[0;31m         raise ValueError(\n\u001b[0m\u001b[1;32m    604\u001b[0m             \"array must not contain infs or NaNs\")\n\u001b[1;32m    605\u001b[0m     \u001b[0;32mreturn\u001b[0m \u001b[0ma\u001b[0m\u001b[0;34m\u001b[0m\u001b[0;34m\u001b[0m\u001b[0m\n",
            "\u001b[0;31mValueError\u001b[0m: array must not contain infs or NaNs"
          ]
        }
      ]
    },
    {
      "cell_type": "markdown",
      "source": [
        "lmao"
      ],
      "metadata": {
        "id": "JvJ_NrvAAGD7"
      }
    },
    {
      "cell_type": "code",
      "source": [
        "# Create a scatter plot of AMT_BALANCE vs. AMT_TOTAL_RECEIVABLE\n",
        "sns.scatterplot(data=df, x='AMT_BALANCE', y='AMT_TOTAL_RECEIVABLE')\n",
        "\n",
        "# Add labels and title\n",
        "plt.xlabel('AMT_BALANCE')\n",
        "plt.ylabel('AMT_TOTAL_RECEIVABLE')\n",
        "plt.title('Correlation between AMT_BALANCE and AMT_TOTAL_RECEIVABLE')\n",
        "plt.show()"
      ],
      "metadata": {
        "colab": {
          "base_uri": "https://localhost:8080/",
          "height": 487
        },
        "id": "nRmWGylTgePx",
        "outputId": "0640e7dd-5313-41e7-96e1-df8513e549e7"
      },
      "execution_count": 89,
      "outputs": [
        {
          "output_type": "display_data",
          "data": {
            "text/plain": [
              "<Figure size 640x480 with 1 Axes>"
            ],
            "image/png": "[encoded data removed]"
          },
          "metadata": {}
        }
      ]
    },
    {
      "cell_type": "code",
      "source": [
        "print(df.isna().sum())"
      ],
      "metadata": {
        "colab": {
          "base_uri": "https://localhost:8080/"
        },
        "id": "YKL5gDN9im2Y",
        "outputId": "31967c03-a336-408b-fe1c-fbf3eb506041"
      },
      "execution_count": 90,
      "outputs": [
        {
          "output_type": "stream",
          "name": "stdout",
          "text": [
            "SK_ID_CURR                            0\n",
            "AMT_BALANCE                           0\n",
            "AMT_CREDIT_LIMIT_ACTUAL               0\n",
            "AMT_DRAWINGS_ATM_CURRENT              0\n",
            "AMT_DRAWINGS_CURRENT                  0\n",
            "AMT_DRAWINGS_OTHER_CURRENT            0\n",
            "AMT_DRAWINGS_POS_CURRENT              0\n",
            "AMT_INST_MIN_REGULARITY               0\n",
            "AMT_PAYMENT_CURRENT                   0\n",
            "AMT_PAYMENT_TOTAL_CURRENT             0\n",
            "AMT_RECEIVABLE_PRINCIPAL              0\n",
            "AMT_RECIVABLE                         0\n",
            "AMT_TOTAL_RECEIVABLE                  0\n",
            "CNT_DRAWINGS_ATM_CURRENT              0\n",
            "CNT_DRAWINGS_CURRENT                  0\n",
            "CNT_DRAWINGS_OTHER_CURRENT            0\n",
            "CNT_DRAWINGS_POS_CURRENT              0\n",
            "CNT_INSTALMENT_MATURE_CUM             0\n",
            "SK_DPD                                0\n",
            "SK_DPD_DEF                            0\n",
            "NAME_CONTRACT_STATUS_Active           0\n",
            "NAME_CONTRACT_STATUS_Approved         0\n",
            "NAME_CONTRACT_STATUS_Completed        0\n",
            "NAME_CONTRACT_STATUS_Demand           0\n",
            "NAME_CONTRACT_STATUS_Refused          0\n",
            "NAME_CONTRACT_STATUS_Sent proposal    0\n",
            "NAME_CONTRACT_STATUS_Signed           0\n",
            "dtype: int64\n"
          ]
        }
      ]
    },
    {
      "cell_type": "code",
      "source": [
        "from sklearn.preprocessing import StandardScaler\n",
        "from sklearn.linear_model import LogisticRegression\n",
        "from sklearn.metrics import accuracy_score, confusion_matrix, classification_report\n",
        "from sklearn.model_selection import train_test_split\n",
        "\n",
        "# Split the data into training and testing sets\n",
        "X = df.drop('NAME_CONTRACT_STATUS_Active', axis=1)\n",
        "y = df['NAME_CONTRACT_STATUS_Active']\n",
        "\n",
        "X_train, X_test, y_train, y_test = train_test_split(X, y, test_size=0.2, random_state=42)\n",
        "\n",
        "# create a scaler object\n",
        "scaler = StandardScaler()\n",
        "\n",
        "# fit the scaler to the training data and transform the training data\n",
        "X_train_scaled = scaler.fit_transform(X_train)\n",
        "\n",
        "# transform the testing data using the fitted scaler\n",
        "X_test_scaled = scaler.transform(X_test)\n",
        "\n",
        "# create a logistic regression model\n",
        "model = LogisticRegression(random_state=42)\n",
        "\n",
        "# fit the model to the scaled training data\n",
        "model.fit(X_train_scaled, y_train)\n",
        "\n",
        "# make predictions on the scaled testing data\n",
        "y_pred = model.predict(X_test_scaled)\n",
        "\n",
        "# evaluate the model performance\n",
        "print('Accuracy:', accuracy_score(y_test, y_pred))\n",
        "print('Confusion matrix:\\n', confusion_matrix(y_test, y_pred))\n",
        "print('Classification report:\\n', classification_report(y_test, y_pred))"
      ],
      "metadata": {
        "colab": {
          "base_uri": "https://localhost:8080/"
        },
        "id": "rrmbtbkUgGix",
        "outputId": "ee8bb07e-3f4a-45ff-dc0e-45850d4c2700"
      },
      "execution_count": 91,
      "outputs": [
        {
          "output_type": "stream",
          "name": "stdout",
          "text": [
            "Accuracy: 1.0\n",
            "Confusion matrix:\n",
            " [[  5435      0]\n",
            " [     0 389077]]\n",
            "Classification report:\n",
            "               precision    recall  f1-score   support\n",
            "\n",
            "           0       1.00      1.00      1.00      5435\n",
            "           1       1.00      1.00      1.00    389077\n",
            "\n",
            "    accuracy                           1.00    394512\n",
            "   macro avg       1.00      1.00      1.00    394512\n",
            "weighted avg       1.00      1.00      1.00    394512\n",
            "\n"
          ]
        }
      ]
    },
    {
      "cell_type": "markdown",
      "source": [
        "unseen model"
      ],
      "metadata": {
        "id": "_z0_bM0aqZZn"
      }
    },
    {
      "cell_type": "code",
      "source": [
        "from sklearn.model_selection import train_test_split\n",
        "from sklearn.linear_model import LogisticRegression\n",
        "from sklearn.metrics import accuracy_score, confusion_matrix, classification_report\n",
        "\n",
        "# Split the data into training and testing sets\n",
        "X = df.drop('NAME_CONTRACT_STATUS_Active', axis=1)\n",
        "y = df['NAME_CONTRACT_STATUS_Active']\n",
        "\n",
        "X_train, X_test, y_train, y_test = train_test_split(X, y, test_size=0.2, random_state=42)\n",
        "\n",
        "# Train the model on the training data\n",
        "model = LogisticRegression(random_state=42)\n",
        "model.fit(X_train, y_train)\n",
        "\n",
        "# Test the model on the testing data\n",
        "y_pred = model.predict(X_test)\n",
        "\n",
        "# Evaluate the performance of the model\n",
        "accuracy = accuracy_score(y_test, y_pred)\n",
        "confusion_matrix = confusion_matrix(y_test, y_pred)\n",
        "classification_report = classification_report(y_test, y_pred)\n",
        "\n",
        "print(\"Accuracy:\", accuracy)\n",
        "print(\"Confusion Matrix:\", confusion_matrix)\n",
        "print(\"Classification Report:\", classification_report)"
      ],
      "metadata": {
        "colab": {
          "base_uri": "https://localhost:8080/"
        },
        "id": "ubEFcZcs0Em9",
        "outputId": "8b45f5c1-2b96-497f-90ab-7025fc28bb06"
      },
      "execution_count": 92,
      "outputs": [
        {
          "output_type": "stream",
          "name": "stderr",
          "text": [
            "/usr/local/lib/python3.9/dist-packages/sklearn/linear_model/_logistic.py:458: ConvergenceWarning: lbfgs failed to converge (status=1):\n",
            "STOP: TOTAL NO. of ITERATIONS REACHED LIMIT.\n",
            "\n",
            "Increase the number of iterations (max_iter) or scale the data as shown in:\n",
            "    https://scikit-learn.org/stable/modules/preprocessing.html\n",
            "Please also refer to the documentation for alternative solver options:\n",
            "    https://scikit-learn.org/stable/modules/linear_model.html#logistic-regression\n",
            "  n_iter_i = _check_optimize_result(\n"
          ]
        },
        {
          "output_type": "stream",
          "name": "stdout",
          "text": [
            "Accuracy: 0.9863603641967799\n",
            "Confusion Matrix: [[   117   5318]\n",
            " [    63 389014]]\n",
            "Classification Report:               precision    recall  f1-score   support\n",
            "\n",
            "           0       0.65      0.02      0.04      5435\n",
            "           1       0.99      1.00      0.99    389077\n",
            "\n",
            "    accuracy                           0.99    394512\n",
            "   macro avg       0.82      0.51      0.52    394512\n",
            "weighted avg       0.98      0.99      0.98    394512\n",
            "\n"
          ]
        }
      ]
    },
    {
      "cell_type": "code",
      "source": [
        "# Train a logistic regression model\n",
        "model = LogisticRegression(random_state=42, max_iter=1000)\n",
        "model.fit(X_train, y_train)"
      ],
      "metadata": {
        "colab": {
          "base_uri": "https://localhost:8080/",
          "height": 218
        },
        "id": "K8Kq-90kgs3e",
        "outputId": "68afcdbf-e7e4-4ccb-adc4-edb8978ed8c4"
      },
      "execution_count": 62,
      "outputs": [
        {
          "output_type": "stream",
          "name": "stderr",
          "text": [
            "/usr/local/lib/python3.9/dist-packages/sklearn/linear_model/_logistic.py:458: ConvergenceWarning: lbfgs failed to converge (status=1):\n",
            "STOP: TOTAL NO. of ITERATIONS REACHED LIMIT.\n",
            "\n",
            "Increase the number of iterations (max_iter) or scale the data as shown in:\n",
            "    https://scikit-learn.org/stable/modules/preprocessing.html\n",
            "Please also refer to the documentation for alternative solver options:\n",
            "    https://scikit-learn.org/stable/modules/linear_model.html#logistic-regression\n",
            "  n_iter_i = _check_optimize_result(\n"
          ]
        },
        {
          "output_type": "execute_result",
          "data": {
            "text/plain": [
              "LogisticRegression(max_iter=1000, random_state=42)"
            ],
            "text/html": [
              "<style>#sk-container-id-2 {color: black;background-color: white;}#sk-container-id-2 pre{padding: 0;}#sk-container-id-2 div.sk-toggleable {background-color: white;}#sk-container-id-2 label.sk-toggleable__label {cursor: pointer;display: block;width: 100%;margin-bottom: 0;padding: 0.3em;box-sizing: border-box;text-align: center;}#sk-container-id-2 label.sk-toggleable__label-arrow:before {content: \"▸\";float: left;margin-right: 0.25em;color: #696969;}#sk-container-id-2 label.sk-toggleable__label-arrow:hover:before {color: black;}#sk-container-id-2 div.sk-estimator:hover label.sk-toggleable__label-arrow:before {color: black;}#sk-container-id-2 div.sk-toggleable__content {max-height: 0;max-width: 0;overflow: hidden;text-align: left;background-color: #f0f8ff;}#sk-container-id-2 div.sk-toggleable__content pre {margin: 0.2em;color: black;border-radius: 0.25em;background-color: #f0f8ff;}#sk-container-id-2 input.sk-toggleable__control:checked~div.sk-toggleable__content {max-height: 200px;max-width: 100%;overflow: auto;}#sk-container-id-2 input.sk-toggleable__control:checked~label.sk-toggleable__label-arrow:before {content: \"▾\";}#sk-container-id-2 div.sk-estimator input.sk-toggleable__control:checked~label.sk-toggleable__label {background-color: #d4ebff;}#sk-container-id-2 div.sk-label input.sk-toggleable__control:checked~label.sk-toggleable__label {background-color: #d4ebff;}#sk-container-id-2 input.sk-hidden--visually {border: 0;clip: rect(1px 1px 1px 1px);clip: rect(1px, 1px, 1px, 1px);height: 1px;margin: -1px;overflow: hidden;padding: 0;position: absolute;width: 1px;}#sk-container-id-2 div.sk-estimator {font-family: monospace;background-color: #f0f8ff;border: 1px dotted black;border-radius: 0.25em;box-sizing: border-box;margin-bottom: 0.5em;}#sk-container-id-2 div.sk-estimator:hover {background-color: #d4ebff;}#sk-container-id-2 div.sk-parallel-item::after {content: \"\";width: 100%;border-bottom: 1px solid gray;flex-grow: 1;}#sk-container-id-2 div.sk-label:hover label.sk-toggleable__label {background-color: #d4ebff;}#sk-container-id-2 div.sk-serial::before {content: \"\";position: absolute;border-left: 1px solid gray;box-sizing: border-box;top: 0;bottom: 0;left: 50%;z-index: 0;}#sk-container-id-2 div.sk-serial {display: flex;flex-direction: column;align-items: center;background-color: white;padding-right: 0.2em;padding-left: 0.2em;position: relative;}#sk-container-id-2 div.sk-item {position: relative;z-index: 1;}#sk-container-id-2 div.sk-parallel {display: flex;align-items: stretch;justify-content: center;background-color: white;position: relative;}#sk-container-id-2 div.sk-item::before, #sk-container-id-2 div.sk-parallel-item::before {content: \"\";position: absolute;border-left: 1px solid gray;box-sizing: border-box;top: 0;bottom: 0;left: 50%;z-index: -1;}#sk-container-id-2 div.sk-parallel-item {display: flex;flex-direction: column;z-index: 1;position: relative;background-color: white;}#sk-container-id-2 div.sk-parallel-item:first-child::after {align-self: flex-end;width: 50%;}#sk-container-id-2 div.sk-parallel-item:last-child::after {align-self: flex-start;width: 50%;}#sk-container-id-2 div.sk-parallel-item:only-child::after {width: 0;}#sk-container-id-2 div.sk-dashed-wrapped {border: 1px dashed gray;margin: 0 0.4em 0.5em 0.4em;box-sizing: border-box;padding-bottom: 0.4em;background-color: white;}#sk-container-id-2 div.sk-label label {font-family: monospace;font-weight: bold;display: inline-block;line-height: 1.2em;}#sk-container-id-2 div.sk-label-container {text-align: center;}#sk-container-id-2 div.sk-container {/* jupyter's `normalize.less` sets `[hidden] { display: none; }` but bootstrap.min.css set `[hidden] { display: none !important; }` so we also need the `!important` here to be able to override the default hidden behavior on the sphinx rendered scikit-learn.org. See: https://github.com/scikit-learn/scikit-learn/issues/21755 */display: inline-block !important;position: relative;}#sk-container-id-2 div.sk-text-repr-fallback {display: none;}</style><div id=\"sk-container-id-2\" class=\"sk-top-container\"><div class=\"sk-text-repr-fallback\"><pre>LogisticRegression(max_iter=1000, random_state=42)</pre><b>In a Jupyter environment, please rerun this cell to show the HTML representation or trust the notebook. <br />On GitHub, the HTML representation is unable to render, please try loading this page with nbviewer.org.</b></div><div class=\"sk-container\" hidden><div class=\"sk-item\"><div class=\"sk-estimator sk-toggleable\"><input class=\"sk-toggleable__control sk-hidden--visually\" id=\"sk-estimator-id-2\" type=\"checkbox\" checked><label for=\"sk-estimator-id-2\" class=\"sk-toggleable__label sk-toggleable__label-arrow\">LogisticRegression</label><div class=\"sk-toggleable__content\"><pre>LogisticRegression(max_iter=1000, random_state=42)</pre></div></div></div></div></div>"
            ]
          },
          "metadata": {},
          "execution_count": 62
        }
      ]
    },
    {
      "cell_type": "code",
      "source": [
        "from sklearn.feature_selection import RFE\n",
        "\n",
        "# create an RFE object to select top 10 features\n",
        "rfe = RFE(model, n_features_to_select=10, verbose=1)\n",
        "\n",
        "# fit the RFE object to the scaled training data\n",
        "rfe.fit(X_train_scaled, y_train)\n",
        "\n",
        "# get the top 10 selected feature names\n",
        "selected_features = X_train.columns[rfe.support_]\n",
        "\n",
        "# subset the scaled training and testing data to the selected features only\n",
        "X_train_scaled_selected = X_train_scaled[:, rfe.support_]\n",
        "X_test_scaled_selected = X_test_scaled[:, rfe.support_]\n",
        "\n",
        "# fit a logistic regression model to the selected features only\n",
        "model_selected = LogisticRegression(random_state=42)\n",
        "model_selected.fit(X_train_scaled_selected, y_train)\n",
        "\n",
        "# make predictions on the scaled testing data using the selected features model\n",
        "y_pred_selected = model_selected.predict(X_test_scaled_selected)\n",
        "\n",
        "# evaluate the simplified model performance\n",
        "print('Accuracy:', accuracy_score(y_test, y_pred_selected))\n",
        "print('Confusion matrix:\\n', confusion_matrix(y_test, y_pred_selected))\n",
        "print('Classification report:\\n', classification_report(y_test, y_pred_selected))"
      ],
      "metadata": {
        "colab": {
          "base_uri": "https://localhost:8080/"
        },
        "id": "7sUyfud_m8hl",
        "outputId": "410c8aa1-81ac-4a19-a844-3edd21a4df9b"
      },
      "execution_count": 63,
      "outputs": [
        {
          "output_type": "stream",
          "name": "stdout",
          "text": [
            "Fitting estimator with 26 features.\n",
            "Fitting estimator with 25 features.\n",
            "Fitting estimator with 24 features.\n",
            "Fitting estimator with 23 features.\n",
            "Fitting estimator with 22 features.\n",
            "Fitting estimator with 21 features.\n",
            "Fitting estimator with 20 features.\n",
            "Fitting estimator with 19 features.\n",
            "Fitting estimator with 18 features.\n",
            "Fitting estimator with 17 features.\n",
            "Fitting estimator with 16 features.\n",
            "Fitting estimator with 15 features.\n",
            "Fitting estimator with 14 features.\n",
            "Fitting estimator with 13 features.\n",
            "Fitting estimator with 12 features.\n",
            "Fitting estimator with 11 features.\n",
            "Accuracy: 0.9999847913371457\n",
            "Confusion matrix:\n",
            " [[  5429      6]\n",
            " [     0 389077]]\n",
            "Classification report:\n",
            "               precision    recall  f1-score   support\n",
            "\n",
            "           0       1.00      1.00      1.00      5435\n",
            "           1       1.00      1.00      1.00    389077\n",
            "\n",
            "    accuracy                           1.00    394512\n",
            "   macro avg       1.00      1.00      1.00    394512\n",
            "weighted avg       1.00      1.00      1.00    394512\n",
            "\n"
          ]
        }
      ]
    },
    {
      "cell_type": "code",
      "source": [
        "# Create new features\n",
        "df['credit_limit_balance_ratio'] = df['AMT_CREDIT_LIMIT_ACTUAL'] / df['AMT_BALANCE']\n",
        "df['drawing_limit_ratio'] = (df['AMT_DRAWINGS_ATM_CURRENT'] + df['AMT_DRAWINGS_CURRENT'] +\n",
        "                             df['AMT_DRAWINGS_OTHER_CURRENT'] + df['AMT_DRAWINGS_POS_CURRENT']) / df['AMT_CREDIT_LIMIT_ACTUAL']\n",
        "\n",
        "# Check the data\n",
        "print(df.head())"
      ],
      "metadata": {
        "colab": {
          "base_uri": "https://localhost:8080/"
        },
        "id": "fPCsp9tzfce2",
        "outputId": "db1187f2-dfd4-4bd4-ae2d-f382529d4e15"
      },
      "execution_count": 64,
      "outputs": [
        {
          "output_type": "stream",
          "name": "stdout",
          "text": [
            "   SK_ID_CURR  AMT_BALANCE  AMT_CREDIT_LIMIT_ACTUAL  AMT_DRAWINGS_ATM_CURRENT  \\\n",
            "0      378907       56.970                   135000                       0.0   \n",
            "1      363914    63975.555                    45000                    2250.0   \n",
            "2      371185    31815.225                   450000                       0.0   \n",
            "3      337855   236572.110                   225000                    2250.0   \n",
            "4      126868   453919.455                   450000                       0.0   \n",
            "\n",
            "   AMT_DRAWINGS_CURRENT  AMT_DRAWINGS_OTHER_CURRENT  AMT_DRAWINGS_POS_CURRENT  \\\n",
            "0                 877.5                         0.0                     877.5   \n",
            "1                2250.0                         0.0                       0.0   \n",
            "2                   0.0                         0.0                       0.0   \n",
            "3                2250.0                         0.0                       0.0   \n",
            "4               11547.0                         0.0                   11547.0   \n",
            "\n",
            "   AMT_INST_MIN_REGULARITY  AMT_PAYMENT_CURRENT  AMT_PAYMENT_TOTAL_CURRENT  \\\n",
            "0                 1700.325               1800.0                     1800.0   \n",
            "1                 2250.000               2250.0                     2250.0   \n",
            "2                 2250.000               2250.0                     2250.0   \n",
            "3                11795.760              11925.0                    11925.0   \n",
            "4                22924.890              27000.0                    27000.0   \n",
            "\n",
            "   ...  SK_DPD_DEF  NAME_CONTRACT_STATUS_Active  \\\n",
            "0  ...           0                            1   \n",
            "1  ...           0                            1   \n",
            "2  ...           0                            1   \n",
            "3  ...           0                            1   \n",
            "4  ...           0                            1   \n",
            "\n",
            "   NAME_CONTRACT_STATUS_Approved  NAME_CONTRACT_STATUS_Completed  \\\n",
            "0                              0                               0   \n",
            "1                              0                               0   \n",
            "2                              0                               0   \n",
            "3                              0                               0   \n",
            "4                              0                               0   \n",
            "\n",
            "   NAME_CONTRACT_STATUS_Demand  NAME_CONTRACT_STATUS_Refused  \\\n",
            "0                            0                             0   \n",
            "1                            0                             0   \n",
            "2                            0                             0   \n",
            "3                            0                             0   \n",
            "4                            0                             0   \n",
            "\n",
            "   NAME_CONTRACT_STATUS_Sent proposal  NAME_CONTRACT_STATUS_Signed  \\\n",
            "0                                   0                            0   \n",
            "1                                   0                            0   \n",
            "2                                   0                            0   \n",
            "3                                   0                            0   \n",
            "4                                   0                            0   \n",
            "\n",
            "   credit_limit_balance_ratio  drawing_limit_ratio  \n",
            "0                 2369.668246              0.01300  \n",
            "1                    0.703394              0.10000  \n",
            "2                   14.144172              0.00000  \n",
            "3                    0.951084              0.02000  \n",
            "4                    0.991365              0.05132  \n",
            "\n",
            "[5 rows x 29 columns]\n"
          ]
        }
      ]
    }
  ]
}