{
  "nbformat": 4,
  "nbformat_minor": 0,
  "metadata": {
    "colab": {
      "provenance": []
    },
    "kernelspec": {
      "name": "python3",
      "display_name": "Python 3"
    },
    "language_info": {
      "name": "python"
    }
  },
  "cells": [
    {
      "cell_type": "code",
      "execution_count": 9,
      "metadata": {
        "colab": {
          "base_uri": "https://localhost:8080/"
        },
        "id": "wKHtZob5aiu5",
        "outputId": "8008e931-4455-4e1f-c1b3-bc509fd434dd"
      },
      "outputs": [
        {
          "output_type": "stream",
          "name": "stdout",
          "text": [
            "Looking in indexes: https://pypi.org/simple, https://us-python.pkg.dev/colab-wheels/public/simple/\n",
            "Requirement already satisfied: requests in /usr/local/lib/python3.9/dist-packages (2.25.1)\n",
            "Requirement already satisfied: chardet<5,>=3.0.2 in /usr/local/lib/python3.9/dist-packages (from requests) (4.0.0)\n",
            "Requirement already satisfied: urllib3<1.27,>=1.21.1 in /usr/local/lib/python3.9/dist-packages (from requests) (1.26.14)\n",
            "Requirement already satisfied: certifi>=2017.4.17 in /usr/local/lib/python3.9/dist-packages (from requests) (2022.12.7)\n",
            "Requirement already satisfied: idna<3,>=2.5 in /usr/local/lib/python3.9/dist-packages (from requests) (2.10)\n",
            "Looking in indexes: https://pypi.org/simple, https://us-python.pkg.dev/colab-wheels/public/simple/\n",
            "Requirement already satisfied: plotly in /usr/local/lib/python3.9/dist-packages (5.5.0)\n",
            "Requirement already satisfied: tenacity>=6.2.0 in /usr/local/lib/python3.9/dist-packages (from plotly) (8.2.2)\n",
            "Requirement already satisfied: six in /usr/local/lib/python3.9/dist-packages (from plotly) (1.15.0)\n"
          ]
        }
      ],
      "source": [
        "!pip install requests\n",
        "!pip install plotly"
      ]
    },
    {
      "cell_type": "code",
      "source": [
        "ids = [ 6989082301, 6989010862, 6988937030, 6983379774, 6983322747, 6983264925, 6978915731, 6978805831, \n",
        "       6978693956, 6975968336, 6975872098, 6975795790, 6972753555, 6972684789, 6967835831, \n",
        "       6967747296, 6967695391, 6964948218, 6964808094, 6993967519, 6993908639, 6993846799, \n",
        "       6985972971, 6985928769, 6983559987, 6983454643, 6978588100, 6978514396, 6968078527, \n",
        "       6967998722, 6967909173, 6964688198, 6964620736, 6961708078, 6961606251, 6961496259 ]\n",
        "\n",
        "## mengubah int menjadi str\n",
        "id = list(map(str, ids))"
      ],
      "metadata": {
        "id": "cioyCRwndFzm"
      },
      "execution_count": 2,
      "outputs": []
    },
    {
      "cell_type": "code",
      "source": [
        "import requests\n",
        "import json\n",
        "import logging\n",
        "\n",
        "matches = list()\n",
        "\n",
        "for i in id:\n",
        "  match = requests.get( 'https://api.opendota.com/api/matches/{}'.format(i))\n",
        "  \n",
        "  data = json.loads(match.text)\n",
        "  matches.append(data)\n"
      ],
      "metadata": {
        "id": "ujcVLucYa3Y9"
      },
      "execution_count": 3,
      "outputs": []
    },
    {
      "cell_type": "code",
      "source": [
        "players = list()\n",
        "for x in matches:\n",
        "  for y in x['players']:\n",
        "    if y['account_id'] == 355168766 or y['account_id'] == 392565237:\n",
        "      players.append(y)\n",
        "# matches[0]['players'][0]['account_id']"
      ],
      "metadata": {
        "id": "UkYVroXDYEPM"
      },
      "execution_count": 4,
      "outputs": []
    },
    {
      "cell_type": "code",
      "source": [
        "import pandas as pd\n",
        "df = pd.json_normalize(players)\n",
        "# df.index = df['match_id']\n",
        "df.head()"
      ],
      "metadata": {
        "colab": {
          "base_uri": "https://localhost:8080/",
          "height": 421
        },
        "id": "4gUcSPXpbiGp",
        "outputId": "01337d59-0375-4057-a877-9d1f65f31185"
      },
      "execution_count": 47,
      "outputs": [
        {
          "output_type": "execute_result",
          "data": {
            "text/plain": [
              "     match_id  player_slot                               ability_upgrades_arr  \\\n",
              "0  6989082301          132  [5019, 343, 5632, 5019, 5019, 5022, 343, 343, ...   \n",
              "1  6989010862            4  [5496, 5495, 5494, 5494, 5494, 5497, 5494, 549...   \n",
              "2  6988937030            4  [5679, 5677, 5677, 5679, 5677, 5683, 5677, 567...   \n",
              "3  6983379774          132  [5679, 5677, 5679, 5677, 5677, 5683, 5679, 567...   \n",
              "4  6983322747            4  [5359, 5358, 5359, 5357, 5359, 5360, 5359, 535...   \n",
              "\n",
              "   account_id                                   additional_units  assists  \\\n",
              "0   355168766                                               None        6   \n",
              "1   355168766                                               None        4   \n",
              "2   355168766  [{'unitname': '', 'item_0': 600, 'item_1': 146...       10   \n",
              "3   355168766  [{'unitname': '', 'item_0': 600, 'item_1': 96,...       18   \n",
              "4   355168766                                               None        8   \n",
              "\n",
              "   backpack_0  backpack_1  backpack_2 backpack_3  ... lane_pos.92.106  \\\n",
              "0           0          16          28       None  ...             NaN   \n",
              "1           0           0          16       None  ...             NaN   \n",
              "2           0           0          14       None  ...             NaN   \n",
              "3           0           0           0       None  ...             NaN   \n",
              "4          38         116           0       None  ...             NaN   \n",
              "\n",
              "   lane_pos.94.106 lane_pos.96.104  lane_pos.98.102  lane_pos.100.102  \\\n",
              "0              NaN             NaN              NaN               NaN   \n",
              "1              NaN             NaN              NaN               NaN   \n",
              "2              NaN             NaN              NaN               NaN   \n",
              "3              NaN             NaN              NaN               NaN   \n",
              "4              NaN             NaN              NaN               NaN   \n",
              "\n",
              "   lane_pos.136.82 lane_pos.154.100  lane_pos.162.100  lane_pos.164.100  \\\n",
              "0              NaN              NaN               NaN               NaN   \n",
              "1              NaN              NaN               NaN               NaN   \n",
              "2              NaN              NaN               NaN               NaN   \n",
              "3              NaN              NaN               NaN               NaN   \n",
              "4              NaN              NaN               NaN               NaN   \n",
              "\n",
              "   lane_pos.180.86  \n",
              "0              NaN  \n",
              "1              NaN  \n",
              "2              NaN  \n",
              "3              NaN  \n",
              "4              NaN  \n",
              "\n",
              "[5 rows x 4189 columns]"
            ],
            "text/html": [
              "\n",
              "  <div id=\"df-06743490-60a2-445b-8616-35f89864595e\">\n",
              "    <div class=\"colab-df-container\">\n",
              "      <div>\n",
              "<style scoped>\n",
              "    .dataframe tbody tr th:only-of-type {\n",
              "        vertical-align: middle;\n",
              "    }\n",
              "\n",
              "    .dataframe tbody tr th {\n",
              "        vertical-align: top;\n",
              "    }\n",
              "\n",
              "    .dataframe thead th {\n",
              "        text-align: right;\n",
              "    }\n",
              "</style>\n",
              "<table border=\"1\" class=\"dataframe\">\n",
              "  <thead>\n",
              "    <tr style=\"text-align: right;\">\n",
              "      <th></th>\n",
              "      <th>match_id</th>\n",
              "      <th>player_slot</th>\n",
              "      <th>ability_upgrades_arr</th>\n",
              "      <th>account_id</th>\n",
              "      <th>additional_units</th>\n",
              "      <th>assists</th>\n",
              "      <th>backpack_0</th>\n",
              "      <th>backpack_1</th>\n",
              "      <th>backpack_2</th>\n",
              "      <th>backpack_3</th>\n",
              "      <th>...</th>\n",
              "      <th>lane_pos.92.106</th>\n",
              "      <th>lane_pos.94.106</th>\n",
              "      <th>lane_pos.96.104</th>\n",
              "      <th>lane_pos.98.102</th>\n",
              "      <th>lane_pos.100.102</th>\n",
              "      <th>lane_pos.136.82</th>\n",
              "      <th>lane_pos.154.100</th>\n",
              "      <th>lane_pos.162.100</th>\n",
              "      <th>lane_pos.164.100</th>\n",
              "      <th>lane_pos.180.86</th>\n",
              "    </tr>\n",
              "  </thead>\n",
              "  <tbody>\n",
              "    <tr>\n",
              "      <th>0</th>\n",
              "      <td>6989082301</td>\n",
              "      <td>132</td>\n",
              "      <td>[5019, 343, 5632, 5019, 5019, 5022, 343, 343, ...</td>\n",
              "      <td>355168766</td>\n",
              "      <td>None</td>\n",
              "      <td>6</td>\n",
              "      <td>0</td>\n",
              "      <td>16</td>\n",
              "      <td>28</td>\n",
              "      <td>None</td>\n",
              "      <td>...</td>\n",
              "      <td>NaN</td>\n",
              "      <td>NaN</td>\n",
              "      <td>NaN</td>\n",
              "      <td>NaN</td>\n",
              "      <td>NaN</td>\n",
              "      <td>NaN</td>\n",
              "      <td>NaN</td>\n",
              "      <td>NaN</td>\n",
              "      <td>NaN</td>\n",
              "      <td>NaN</td>\n",
              "    </tr>\n",
              "    <tr>\n",
              "      <th>1</th>\n",
              "      <td>6989010862</td>\n",
              "      <td>4</td>\n",
              "      <td>[5496, 5495, 5494, 5494, 5494, 5497, 5494, 549...</td>\n",
              "      <td>355168766</td>\n",
              "      <td>None</td>\n",
              "      <td>4</td>\n",
              "      <td>0</td>\n",
              "      <td>0</td>\n",
              "      <td>16</td>\n",
              "      <td>None</td>\n",
              "      <td>...</td>\n",
              "      <td>NaN</td>\n",
              "      <td>NaN</td>\n",
              "      <td>NaN</td>\n",
              "      <td>NaN</td>\n",
              "      <td>NaN</td>\n",
              "      <td>NaN</td>\n",
              "      <td>NaN</td>\n",
              "      <td>NaN</td>\n",
              "      <td>NaN</td>\n",
              "      <td>NaN</td>\n",
              "    </tr>\n",
              "    <tr>\n",
              "      <th>2</th>\n",
              "      <td>6988937030</td>\n",
              "      <td>4</td>\n",
              "      <td>[5679, 5677, 5677, 5679, 5677, 5683, 5677, 567...</td>\n",
              "      <td>355168766</td>\n",
              "      <td>[{'unitname': '', 'item_0': 600, 'item_1': 146...</td>\n",
              "      <td>10</td>\n",
              "      <td>0</td>\n",
              "      <td>0</td>\n",
              "      <td>14</td>\n",
              "      <td>None</td>\n",
              "      <td>...</td>\n",
              "      <td>NaN</td>\n",
              "      <td>NaN</td>\n",
              "      <td>NaN</td>\n",
              "      <td>NaN</td>\n",
              "      <td>NaN</td>\n",
              "      <td>NaN</td>\n",
              "      <td>NaN</td>\n",
              "      <td>NaN</td>\n",
              "      <td>NaN</td>\n",
              "      <td>NaN</td>\n",
              "    </tr>\n",
              "    <tr>\n",
              "      <th>3</th>\n",
              "      <td>6983379774</td>\n",
              "      <td>132</td>\n",
              "      <td>[5679, 5677, 5679, 5677, 5677, 5683, 5679, 567...</td>\n",
              "      <td>355168766</td>\n",
              "      <td>[{'unitname': '', 'item_0': 600, 'item_1': 96,...</td>\n",
              "      <td>18</td>\n",
              "      <td>0</td>\n",
              "      <td>0</td>\n",
              "      <td>0</td>\n",
              "      <td>None</td>\n",
              "      <td>...</td>\n",
              "      <td>NaN</td>\n",
              "      <td>NaN</td>\n",
              "      <td>NaN</td>\n",
              "      <td>NaN</td>\n",
              "      <td>NaN</td>\n",
              "      <td>NaN</td>\n",
              "      <td>NaN</td>\n",
              "      <td>NaN</td>\n",
              "      <td>NaN</td>\n",
              "      <td>NaN</td>\n",
              "    </tr>\n",
              "    <tr>\n",
              "      <th>4</th>\n",
              "      <td>6983322747</td>\n",
              "      <td>4</td>\n",
              "      <td>[5359, 5358, 5359, 5357, 5359, 5360, 5359, 535...</td>\n",
              "      <td>355168766</td>\n",
              "      <td>None</td>\n",
              "      <td>8</td>\n",
              "      <td>38</td>\n",
              "      <td>116</td>\n",
              "      <td>0</td>\n",
              "      <td>None</td>\n",
              "      <td>...</td>\n",
              "      <td>NaN</td>\n",
              "      <td>NaN</td>\n",
              "      <td>NaN</td>\n",
              "      <td>NaN</td>\n",
              "      <td>NaN</td>\n",
              "      <td>NaN</td>\n",
              "      <td>NaN</td>\n",
              "      <td>NaN</td>\n",
              "      <td>NaN</td>\n",
              "      <td>NaN</td>\n",
              "    </tr>\n",
              "  </tbody>\n",
              "</table>\n",
              "<p>5 rows × 4189 columns</p>\n",
              "</div>\n",
              "      <button class=\"colab-df-convert\" onclick=\"convertToInteractive('df-06743490-60a2-445b-8616-35f89864595e')\"\n",
              "              title=\"Convert this dataframe to an interactive table.\"\n",
              "              style=\"display:none;\">\n",
              "        \n",
              "  <svg xmlns=\"http://www.w3.org/2000/svg\" height=\"24px\"viewBox=\"0 0 24 24\"\n",
              "       width=\"24px\">\n",
              "    <path d=\"M0 0h24v24H0V0z\" fill=\"none\"/>\n",
              "    <path d=\"M18.56 5.44l.94 2.06.94-2.06 2.06-.94-2.06-.94-.94-2.06-.94 2.06-2.06.94zm-11 1L8.5 8.5l.94-2.06 2.06-.94-2.06-.94L8.5 2.5l-.94 2.06-2.06.94zm10 10l.94 2.06.94-2.06 2.06-.94-2.06-.94-.94-2.06-.94 2.06-2.06.94z\"/><path d=\"M17.41 7.96l-1.37-1.37c-.4-.4-.92-.59-1.43-.59-.52 0-1.04.2-1.43.59L10.3 9.45l-7.72 7.72c-.78.78-.78 2.05 0 2.83L4 21.41c.39.39.9.59 1.41.59.51 0 1.02-.2 1.41-.59l7.78-7.78 2.81-2.81c.8-.78.8-2.07 0-2.86zM5.41 20L4 18.59l7.72-7.72 1.47 1.35L5.41 20z\"/>\n",
              "  </svg>\n",
              "      </button>\n",
              "      \n",
              "  <style>\n",
              "    .colab-df-container {\n",
              "      display:flex;\n",
              "      flex-wrap:wrap;\n",
              "      gap: 12px;\n",
              "    }\n",
              "\n",
              "    .colab-df-convert {\n",
              "      background-color: #E8F0FE;\n",
              "      border: none;\n",
              "      border-radius: 50%;\n",
              "      cursor: pointer;\n",
              "      display: none;\n",
              "      fill: #1967D2;\n",
              "      height: 32px;\n",
              "      padding: 0 0 0 0;\n",
              "      width: 32px;\n",
              "    }\n",
              "\n",
              "    .colab-df-convert:hover {\n",
              "      background-color: #E2EBFA;\n",
              "      box-shadow: 0px 1px 2px rgba(60, 64, 67, 0.3), 0px 1px 3px 1px rgba(60, 64, 67, 0.15);\n",
              "      fill: #174EA6;\n",
              "    }\n",
              "\n",
              "    [theme=dark] .colab-df-convert {\n",
              "      background-color: #3B4455;\n",
              "      fill: #D2E3FC;\n",
              "    }\n",
              "\n",
              "    [theme=dark] .colab-df-convert:hover {\n",
              "      background-color: #434B5C;\n",
              "      box-shadow: 0px 1px 3px 1px rgba(0, 0, 0, 0.15);\n",
              "      filter: drop-shadow(0px 1px 2px rgba(0, 0, 0, 0.3));\n",
              "      fill: #FFFFFF;\n",
              "    }\n",
              "  </style>\n",
              "\n",
              "      <script>\n",
              "        const buttonEl =\n",
              "          document.querySelector('#df-06743490-60a2-445b-8616-35f89864595e button.colab-df-convert');\n",
              "        buttonEl.style.display =\n",
              "          google.colab.kernel.accessAllowed ? 'block' : 'none';\n",
              "\n",
              "        async function convertToInteractive(key) {\n",
              "          const element = document.querySelector('#df-06743490-60a2-445b-8616-35f89864595e');\n",
              "          const dataTable =\n",
              "            await google.colab.kernel.invokeFunction('convertToInteractive',\n",
              "                                                     [key], {});\n",
              "          if (!dataTable) return;\n",
              "\n",
              "          const docLinkHtml = 'Like what you see? Visit the ' +\n",
              "            '<a target=\"_blank\" href=https://colab.research.google.com/notebooks/data_table.ipynb>data table notebook</a>'\n",
              "            + ' to learn more about interactive tables.';\n",
              "          element.innerHTML = '';\n",
              "          dataTable['output_type'] = 'display_data';\n",
              "          await google.colab.output.renderOutput(dataTable, element);\n",
              "          const docLink = document.createElement('div');\n",
              "          docLink.innerHTML = docLinkHtml;\n",
              "          element.appendChild(docLink);\n",
              "        }\n",
              "      </script>\n",
              "    </div>\n",
              "  </div>\n",
              "  "
            ]
          },
          "metadata": {},
          "execution_count": 47
        }
      ]
    },
    {
      "cell_type": "code",
      "source": [
        "df.drop(df.columns.difference(['benchmarks.gold_per_min.pct','benchmarks.xp_per_min.pct',\n",
        "                               'benchmarks.last_hits_per_min.pct','hero_damage',\n",
        "                               'name','hero_damage', 'win', 'kda',\n",
        "                               'tower_damage', 'teamfight_participation','duration']), 1, inplace=True)\n",
        "df.head()"
      ],
      "metadata": {
        "colab": {
          "base_uri": "https://localhost:8080/",
          "height": 342
        },
        "id": "kddxBz9hVyFq",
        "outputId": "537150fd-412c-476c-b27e-a1b70a9e369f"
      },
      "execution_count": 48,
      "outputs": [
        {
          "output_type": "stream",
          "name": "stderr",
          "text": [
            "<ipython-input-48-3fcfd738abe0>:1: FutureWarning:\n",
            "\n",
            "In a future version of pandas all arguments of DataFrame.drop except for the argument 'labels' will be keyword-only\n",
            "\n"
          ]
        },
        {
          "output_type": "execute_result",
          "data": {
            "text/plain": [
              "   hero_damage  teamfight_participation  tower_damage     name  duration  win  \\\n",
              "0        14124                 0.529412          1530  Natsumi      2340    0   \n",
              "1         6417                 0.454545             0  Natsumi      1870    0   \n",
              "2        49199                 0.833333          5028  Natsumi      2522    1   \n",
              "3       103079                 0.805556          4756  Natsumi      2909    1   \n",
              "4        30179                 0.628571          7109  Natsumi      2159    1   \n",
              "\n",
              "   kda  benchmarks.gold_per_min.pct  benchmarks.xp_per_min.pct  \\\n",
              "0    1                     0.100000                   0.450000   \n",
              "1    1                     0.150000                   0.250000   \n",
              "2   20                     1.000000                   0.857143   \n",
              "3    7                     1.000000                   0.857143   \n",
              "4   11                     0.785714                   0.857143   \n",
              "\n",
              "   benchmarks.last_hits_per_min.pct  \n",
              "0                          0.700000  \n",
              "1                          0.750000  \n",
              "2                          1.000000  \n",
              "3                          1.000000  \n",
              "4                          0.642857  "
            ],
            "text/html": [
              "\n",
              "  <div id=\"df-dbdbfaf2-2acf-477e-8661-dd70f8ccd964\">\n",
              "    <div class=\"colab-df-container\">\n",
              "      <div>\n",
              "<style scoped>\n",
              "    .dataframe tbody tr th:only-of-type {\n",
              "        vertical-align: middle;\n",
              "    }\n",
              "\n",
              "    .dataframe tbody tr th {\n",
              "        vertical-align: top;\n",
              "    }\n",
              "\n",
              "    .dataframe thead th {\n",
              "        text-align: right;\n",
              "    }\n",
              "</style>\n",
              "<table border=\"1\" class=\"dataframe\">\n",
              "  <thead>\n",
              "    <tr style=\"text-align: right;\">\n",
              "      <th></th>\n",
              "      <th>hero_damage</th>\n",
              "      <th>teamfight_participation</th>\n",
              "      <th>tower_damage</th>\n",
              "      <th>name</th>\n",
              "      <th>duration</th>\n",
              "      <th>win</th>\n",
              "      <th>kda</th>\n",
              "      <th>benchmarks.gold_per_min.pct</th>\n",
              "      <th>benchmarks.xp_per_min.pct</th>\n",
              "      <th>benchmarks.last_hits_per_min.pct</th>\n",
              "    </tr>\n",
              "  </thead>\n",
              "  <tbody>\n",
              "    <tr>\n",
              "      <th>0</th>\n",
              "      <td>14124</td>\n",
              "      <td>0.529412</td>\n",
              "      <td>1530</td>\n",
              "      <td>Natsumi</td>\n",
              "      <td>2340</td>\n",
              "      <td>0</td>\n",
              "      <td>1</td>\n",
              "      <td>0.100000</td>\n",
              "      <td>0.450000</td>\n",
              "      <td>0.700000</td>\n",
              "    </tr>\n",
              "    <tr>\n",
              "      <th>1</th>\n",
              "      <td>6417</td>\n",
              "      <td>0.454545</td>\n",
              "      <td>0</td>\n",
              "      <td>Natsumi</td>\n",
              "      <td>1870</td>\n",
              "      <td>0</td>\n",
              "      <td>1</td>\n",
              "      <td>0.150000</td>\n",
              "      <td>0.250000</td>\n",
              "      <td>0.750000</td>\n",
              "    </tr>\n",
              "    <tr>\n",
              "      <th>2</th>\n",
              "      <td>49199</td>\n",
              "      <td>0.833333</td>\n",
              "      <td>5028</td>\n",
              "      <td>Natsumi</td>\n",
              "      <td>2522</td>\n",
              "      <td>1</td>\n",
              "      <td>20</td>\n",
              "      <td>1.000000</td>\n",
              "      <td>0.857143</td>\n",
              "      <td>1.000000</td>\n",
              "    </tr>\n",
              "    <tr>\n",
              "      <th>3</th>\n",
              "      <td>103079</td>\n",
              "      <td>0.805556</td>\n",
              "      <td>4756</td>\n",
              "      <td>Natsumi</td>\n",
              "      <td>2909</td>\n",
              "      <td>1</td>\n",
              "      <td>7</td>\n",
              "      <td>1.000000</td>\n",
              "      <td>0.857143</td>\n",
              "      <td>1.000000</td>\n",
              "    </tr>\n",
              "    <tr>\n",
              "      <th>4</th>\n",
              "      <td>30179</td>\n",
              "      <td>0.628571</td>\n",
              "      <td>7109</td>\n",
              "      <td>Natsumi</td>\n",
              "      <td>2159</td>\n",
              "      <td>1</td>\n",
              "      <td>11</td>\n",
              "      <td>0.785714</td>\n",
              "      <td>0.857143</td>\n",
              "      <td>0.642857</td>\n",
              "    </tr>\n",
              "  </tbody>\n",
              "</table>\n",
              "</div>\n",
              "      <button class=\"colab-df-convert\" onclick=\"convertToInteractive('df-dbdbfaf2-2acf-477e-8661-dd70f8ccd964')\"\n",
              "              title=\"Convert this dataframe to an interactive table.\"\n",
              "              style=\"display:none;\">\n",
              "        \n",
              "  <svg xmlns=\"http://www.w3.org/2000/svg\" height=\"24px\"viewBox=\"0 0 24 24\"\n",
              "       width=\"24px\">\n",
              "    <path d=\"M0 0h24v24H0V0z\" fill=\"none\"/>\n",
              "    <path d=\"M18.56 5.44l.94 2.06.94-2.06 2.06-.94-2.06-.94-.94-2.06-.94 2.06-2.06.94zm-11 1L8.5 8.5l.94-2.06 2.06-.94-2.06-.94L8.5 2.5l-.94 2.06-2.06.94zm10 10l.94 2.06.94-2.06 2.06-.94-2.06-.94-.94-2.06-.94 2.06-2.06.94z\"/><path d=\"M17.41 7.96l-1.37-1.37c-.4-.4-.92-.59-1.43-.59-.52 0-1.04.2-1.43.59L10.3 9.45l-7.72 7.72c-.78.78-.78 2.05 0 2.83L4 21.41c.39.39.9.59 1.41.59.51 0 1.02-.2 1.41-.59l7.78-7.78 2.81-2.81c.8-.78.8-2.07 0-2.86zM5.41 20L4 18.59l7.72-7.72 1.47 1.35L5.41 20z\"/>\n",
              "  </svg>\n",
              "      </button>\n",
              "      \n",
              "  <style>\n",
              "    .colab-df-container {\n",
              "      display:flex;\n",
              "      flex-wrap:wrap;\n",
              "      gap: 12px;\n",
              "    }\n",
              "\n",
              "    .colab-df-convert {\n",
              "      background-color: #E8F0FE;\n",
              "      border: none;\n",
              "      border-radius: 50%;\n",
              "      cursor: pointer;\n",
              "      display: none;\n",
              "      fill: #1967D2;\n",
              "      height: 32px;\n",
              "      padding: 0 0 0 0;\n",
              "      width: 32px;\n",
              "    }\n",
              "\n",
              "    .colab-df-convert:hover {\n",
              "      background-color: #E2EBFA;\n",
              "      box-shadow: 0px 1px 2px rgba(60, 64, 67, 0.3), 0px 1px 3px 1px rgba(60, 64, 67, 0.15);\n",
              "      fill: #174EA6;\n",
              "    }\n",
              "\n",
              "    [theme=dark] .colab-df-convert {\n",
              "      background-color: #3B4455;\n",
              "      fill: #D2E3FC;\n",
              "    }\n",
              "\n",
              "    [theme=dark] .colab-df-convert:hover {\n",
              "      background-color: #434B5C;\n",
              "      box-shadow: 0px 1px 3px 1px rgba(0, 0, 0, 0.15);\n",
              "      filter: drop-shadow(0px 1px 2px rgba(0, 0, 0, 0.3));\n",
              "      fill: #FFFFFF;\n",
              "    }\n",
              "  </style>\n",
              "\n",
              "      <script>\n",
              "        const buttonEl =\n",
              "          document.querySelector('#df-dbdbfaf2-2acf-477e-8661-dd70f8ccd964 button.colab-df-convert');\n",
              "        buttonEl.style.display =\n",
              "          google.colab.kernel.accessAllowed ? 'block' : 'none';\n",
              "\n",
              "        async function convertToInteractive(key) {\n",
              "          const element = document.querySelector('#df-dbdbfaf2-2acf-477e-8661-dd70f8ccd964');\n",
              "          const dataTable =\n",
              "            await google.colab.kernel.invokeFunction('convertToInteractive',\n",
              "                                                     [key], {});\n",
              "          if (!dataTable) return;\n",
              "\n",
              "          const docLinkHtml = 'Like what you see? Visit the ' +\n",
              "            '<a target=\"_blank\" href=https://colab.research.google.com/notebooks/data_table.ipynb>data table notebook</a>'\n",
              "            + ' to learn more about interactive tables.';\n",
              "          element.innerHTML = '';\n",
              "          dataTable['output_type'] = 'display_data';\n",
              "          await google.colab.output.renderOutput(dataTable, element);\n",
              "          const docLink = document.createElement('div');\n",
              "          docLink.innerHTML = docLinkHtml;\n",
              "          element.appendChild(docLink);\n",
              "        }\n",
              "      </script>\n",
              "    </div>\n",
              "  </div>\n",
              "  "
            ]
          },
          "metadata": {},
          "execution_count": 48
        }
      ]
    },
    {
      "cell_type": "code",
      "source": [
        "df.rename(columns={'benchmarks.gold_per_min.pct': 'gpm', 'benchmarks.xp_per_min.pct': 'xpm', 'benchmarks.last_hits_per_min.pct': 'lh_per_min', 'win': 'result'}, inplace=True)"
      ],
      "metadata": {
        "id": "Kdd9oDV02bV8"
      },
      "execution_count": 49,
      "outputs": []
    },
    {
      "cell_type": "code",
      "source": [
        "df['hero_damage'] = (df['hero_damage']-df['hero_damage'].min())/(df['hero_damage'].max()-df['hero_damage'].min())\n",
        "df['tower_damage'] = (df['tower_damage']-df['tower_damage'].min())/(df['tower_damage'].max()-df['tower_damage'].min())\n",
        "df['kda'] = (df['kda']-df['kda'].min())/(df['kda'].max()-df['kda'].min())"
      ],
      "metadata": {
        "id": "E5mTaIdL_evv"
      },
      "execution_count": 52,
      "outputs": []
    },
    {
      "cell_type": "code",
      "source": [
        "# map_dict = {0: \"lose\", 1: \"win\"}\n",
        "df[\"result\"] = df[\"result\"].astype('string').replace([\"0\", \"1\"], [\"lose\", \"win\"])\n",
        "df.head()"
      ],
      "metadata": {
        "colab": {
          "base_uri": "https://localhost:8080/",
          "height": 206
        },
        "id": "Fkp7MSF086Rs",
        "outputId": "f0345c27-6433-41e3-a943-b5b3bce8f726"
      },
      "execution_count": 58,
      "outputs": [
        {
          "output_type": "execute_result",
          "data": {
            "text/plain": [
              "   hero_damage  teamfight_participation  tower_damage     name  duration  \\\n",
              "0     0.108337                 0.529412      0.058352  Natsumi      2340   \n",
              "1     0.031084                 0.454545      0.000000  Natsumi      1870   \n",
              "2     0.459920                 0.833333      0.191762  Natsumi      2522   \n",
              "3     1.000000                 0.805556      0.181388  Natsumi      2909   \n",
              "4     0.269268                 0.628571      0.271129  Natsumi      2159   \n",
              "\n",
              "  result       kda       gpm       xpm  lh_per_min  \n",
              "0   lose  0.034483  0.100000  0.450000    0.700000  \n",
              "1   lose  0.034483  0.150000  0.250000    0.750000  \n",
              "2    win  0.689655  1.000000  0.857143    1.000000  \n",
              "3    win  0.241379  1.000000  0.857143    1.000000  \n",
              "4    win  0.379310  0.785714  0.857143    0.642857  "
            ],
            "text/html": [
              "\n",
              "  <div id=\"df-c560240f-7cc7-4070-a07a-87a3ea9a17c5\">\n",
              "    <div class=\"colab-df-container\">\n",
              "      <div>\n",
              "<style scoped>\n",
              "    .dataframe tbody tr th:only-of-type {\n",
              "        vertical-align: middle;\n",
              "    }\n",
              "\n",
              "    .dataframe tbody tr th {\n",
              "        vertical-align: top;\n",
              "    }\n",
              "\n",
              "    .dataframe thead th {\n",
              "        text-align: right;\n",
              "    }\n",
              "</style>\n",
              "<table border=\"1\" class=\"dataframe\">\n",
              "  <thead>\n",
              "    <tr style=\"text-align: right;\">\n",
              "      <th></th>\n",
              "      <th>hero_damage</th>\n",
              "      <th>teamfight_participation</th>\n",
              "      <th>tower_damage</th>\n",
              "      <th>name</th>\n",
              "      <th>duration</th>\n",
              "      <th>result</th>\n",
              "      <th>kda</th>\n",
              "      <th>gpm</th>\n",
              "      <th>xpm</th>\n",
              "      <th>lh_per_min</th>\n",
              "    </tr>\n",
              "  </thead>\n",
              "  <tbody>\n",
              "    <tr>\n",
              "      <th>0</th>\n",
              "      <td>0.108337</td>\n",
              "      <td>0.529412</td>\n",
              "      <td>0.058352</td>\n",
              "      <td>Natsumi</td>\n",
              "      <td>2340</td>\n",
              "      <td>lose</td>\n",
              "      <td>0.034483</td>\n",
              "      <td>0.100000</td>\n",
              "      <td>0.450000</td>\n",
              "      <td>0.700000</td>\n",
              "    </tr>\n",
              "    <tr>\n",
              "      <th>1</th>\n",
              "      <td>0.031084</td>\n",
              "      <td>0.454545</td>\n",
              "      <td>0.000000</td>\n",
              "      <td>Natsumi</td>\n",
              "      <td>1870</td>\n",
              "      <td>lose</td>\n",
              "      <td>0.034483</td>\n",
              "      <td>0.150000</td>\n",
              "      <td>0.250000</td>\n",
              "      <td>0.750000</td>\n",
              "    </tr>\n",
              "    <tr>\n",
              "      <th>2</th>\n",
              "      <td>0.459920</td>\n",
              "      <td>0.833333</td>\n",
              "      <td>0.191762</td>\n",
              "      <td>Natsumi</td>\n",
              "      <td>2522</td>\n",
              "      <td>win</td>\n",
              "      <td>0.689655</td>\n",
              "      <td>1.000000</td>\n",
              "      <td>0.857143</td>\n",
              "      <td>1.000000</td>\n",
              "    </tr>\n",
              "    <tr>\n",
              "      <th>3</th>\n",
              "      <td>1.000000</td>\n",
              "      <td>0.805556</td>\n",
              "      <td>0.181388</td>\n",
              "      <td>Natsumi</td>\n",
              "      <td>2909</td>\n",
              "      <td>win</td>\n",
              "      <td>0.241379</td>\n",
              "      <td>1.000000</td>\n",
              "      <td>0.857143</td>\n",
              "      <td>1.000000</td>\n",
              "    </tr>\n",
              "    <tr>\n",
              "      <th>4</th>\n",
              "      <td>0.269268</td>\n",
              "      <td>0.628571</td>\n",
              "      <td>0.271129</td>\n",
              "      <td>Natsumi</td>\n",
              "      <td>2159</td>\n",
              "      <td>win</td>\n",
              "      <td>0.379310</td>\n",
              "      <td>0.785714</td>\n",
              "      <td>0.857143</td>\n",
              "      <td>0.642857</td>\n",
              "    </tr>\n",
              "  </tbody>\n",
              "</table>\n",
              "</div>\n",
              "      <button class=\"colab-df-convert\" onclick=\"convertToInteractive('df-c560240f-7cc7-4070-a07a-87a3ea9a17c5')\"\n",
              "              title=\"Convert this dataframe to an interactive table.\"\n",
              "              style=\"display:none;\">\n",
              "        \n",
              "  <svg xmlns=\"http://www.w3.org/2000/svg\" height=\"24px\"viewBox=\"0 0 24 24\"\n",
              "       width=\"24px\">\n",
              "    <path d=\"M0 0h24v24H0V0z\" fill=\"none\"/>\n",
              "    <path d=\"M18.56 5.44l.94 2.06.94-2.06 2.06-.94-2.06-.94-.94-2.06-.94 2.06-2.06.94zm-11 1L8.5 8.5l.94-2.06 2.06-.94-2.06-.94L8.5 2.5l-.94 2.06-2.06.94zm10 10l.94 2.06.94-2.06 2.06-.94-2.06-.94-.94-2.06-.94 2.06-2.06.94z\"/><path d=\"M17.41 7.96l-1.37-1.37c-.4-.4-.92-.59-1.43-.59-.52 0-1.04.2-1.43.59L10.3 9.45l-7.72 7.72c-.78.78-.78 2.05 0 2.83L4 21.41c.39.39.9.59 1.41.59.51 0 1.02-.2 1.41-.59l7.78-7.78 2.81-2.81c.8-.78.8-2.07 0-2.86zM5.41 20L4 18.59l7.72-7.72 1.47 1.35L5.41 20z\"/>\n",
              "  </svg>\n",
              "      </button>\n",
              "      \n",
              "  <style>\n",
              "    .colab-df-container {\n",
              "      display:flex;\n",
              "      flex-wrap:wrap;\n",
              "      gap: 12px;\n",
              "    }\n",
              "\n",
              "    .colab-df-convert {\n",
              "      background-color: #E8F0FE;\n",
              "      border: none;\n",
              "      border-radius: 50%;\n",
              "      cursor: pointer;\n",
              "      display: none;\n",
              "      fill: #1967D2;\n",
              "      height: 32px;\n",
              "      padding: 0 0 0 0;\n",
              "      width: 32px;\n",
              "    }\n",
              "\n",
              "    .colab-df-convert:hover {\n",
              "      background-color: #E2EBFA;\n",
              "      box-shadow: 0px 1px 2px rgba(60, 64, 67, 0.3), 0px 1px 3px 1px rgba(60, 64, 67, 0.15);\n",
              "      fill: #174EA6;\n",
              "    }\n",
              "\n",
              "    [theme=dark] .colab-df-convert {\n",
              "      background-color: #3B4455;\n",
              "      fill: #D2E3FC;\n",
              "    }\n",
              "\n",
              "    [theme=dark] .colab-df-convert:hover {\n",
              "      background-color: #434B5C;\n",
              "      box-shadow: 0px 1px 3px 1px rgba(0, 0, 0, 0.15);\n",
              "      filter: drop-shadow(0px 1px 2px rgba(0, 0, 0, 0.3));\n",
              "      fill: #FFFFFF;\n",
              "    }\n",
              "  </style>\n",
              "\n",
              "      <script>\n",
              "        const buttonEl =\n",
              "          document.querySelector('#df-c560240f-7cc7-4070-a07a-87a3ea9a17c5 button.colab-df-convert');\n",
              "        buttonEl.style.display =\n",
              "          google.colab.kernel.accessAllowed ? 'block' : 'none';\n",
              "\n",
              "        async function convertToInteractive(key) {\n",
              "          const element = document.querySelector('#df-c560240f-7cc7-4070-a07a-87a3ea9a17c5');\n",
              "          const dataTable =\n",
              "            await google.colab.kernel.invokeFunction('convertToInteractive',\n",
              "                                                     [key], {});\n",
              "          if (!dataTable) return;\n",
              "\n",
              "          const docLinkHtml = 'Like what you see? Visit the ' +\n",
              "            '<a target=\"_blank\" href=https://colab.research.google.com/notebooks/data_table.ipynb>data table notebook</a>'\n",
              "            + ' to learn more about interactive tables.';\n",
              "          element.innerHTML = '';\n",
              "          dataTable['output_type'] = 'display_data';\n",
              "          await google.colab.output.renderOutput(dataTable, element);\n",
              "          const docLink = document.createElement('div');\n",
              "          docLink.innerHTML = docLinkHtml;\n",
              "          element.appendChild(docLink);\n",
              "        }\n",
              "      </script>\n",
              "    </div>\n",
              "  </div>\n",
              "  "
            ]
          },
          "metadata": {},
          "execution_count": 58
        }
      ]
    },
    {
      "cell_type": "code",
      "source": [
        "df.shape"
      ],
      "metadata": {
        "colab": {
          "base_uri": "https://localhost:8080/"
        },
        "id": "N81r87dH-jw8",
        "outputId": "419fe7aa-6431-45dd-db4d-a8c9ad4d01e5"
      },
      "execution_count": 59,
      "outputs": [
        {
          "output_type": "execute_result",
          "data": {
            "text/plain": [
              "(39, 10)"
            ]
          },
          "metadata": {},
          "execution_count": 59
        }
      ]
    },
    {
      "cell_type": "code",
      "source": [
        "by_result = df.groupby([\"result\", \"name\"]).mean()\n",
        "by_result.head"
      ],
      "metadata": {
        "colab": {
          "base_uri": "https://localhost:8080/"
        },
        "id": "TGXjjgUw7-g1",
        "outputId": "87446fd2-cd47-47c3-9ba4-ac74c834cd7d"
      },
      "execution_count": 60,
      "outputs": [
        {
          "output_type": "execute_result",
          "data": {
            "text/plain": [
              "<bound method NDFrame.head of                 hero_damage  teamfight_participation  tower_damage  \\\n",
              "result name                                                          \n",
              "lose   JACKKY      0.248608                 0.630983      0.121688   \n",
              "       Natsumi     0.267478                 0.621165      0.168977   \n",
              "win    JACKKY      0.336090                 0.668999      0.608877   \n",
              "       Natsumi     0.454066                 0.675135      0.430892   \n",
              "\n",
              "                   duration       kda       gpm       xpm  lh_per_min  \n",
              "result name                                                            \n",
              "lose   JACKKY   2671.333333  0.068966  0.643624  0.368870    0.828600  \n",
              "       Natsumi  2828.000000  0.063218  0.512355  0.390463    0.755995  \n",
              "win    JACKKY   2700.500000  0.349138  0.842000  0.575782    0.970779  \n",
              "       Natsumi  2788.714286  0.330049  0.877551  0.767347    0.881633  >"
            ]
          },
          "metadata": {},
          "execution_count": 60
        }
      ]
    },
    {
      "cell_type": "code",
      "source": [
        "import matplotlib.pyplot as plt\n",
        "\n",
        "by_result[\"teamfight_participation\"].unstack().plot(kind=\"bar\")\n",
        "\n",
        "# Add title and axis labels\n",
        "plt.title('Teamfigth Participation')\n",
        "plt.xlabel('Result')\n",
        "\n",
        "# Show the plot\n",
        "plt.show()"
      ],
      "metadata": {
        "id": "IwGQOfM7iXQG",
        "colab": {
          "base_uri": "https://localhost:8080/",
          "height": 306
        },
        "outputId": "3e6fc4b5-ad47-4360-c827-dd57420e94d6"
      },
      "execution_count": 61,
      "outputs": [
        {
          "output_type": "display_data",
          "data": {
            "text/plain": [
              "<Figure size 432x288 with 1 Axes>"
            ],
            "image/png": "[encoded data removed]"
          },
          "metadata": {
            "needs_background": "light"
          }
        }
      ]
    },
    {
      "cell_type": "code",
      "source": [
        "by_result[\"gpm\"].unstack().plot(kind=\"bar\")"
      ],
      "metadata": {
        "colab": {
          "base_uri": "https://localhost:8080/",
          "height": 308
        },
        "id": "CA6zsKyp75em",
        "outputId": "51bffd25-ec90-44cd-9e3c-b3da34c2213e"
      },
      "execution_count": 65,
      "outputs": [
        {
          "output_type": "execute_result",
          "data": {
            "text/plain": [
              "<AxesSubplot:xlabel='result'>"
            ]
          },
          "metadata": {},
          "execution_count": 65
        },
        {
          "output_type": "display_data",
          "data": {
            "text/plain": [
              "<Figure size 432x288 with 1 Axes>"
            ],
            "image/png": "[encoded data removed]"
          },
          "metadata": {
            "needs_background": "light"
          }
        }
      ]
    },
    {
      "cell_type": "code",
      "source": [
        "by_result[\"lh_per_min\"].unstack().plot(kind=\"bar\")"
      ],
      "metadata": {
        "colab": {
          "base_uri": "https://localhost:8080/",
          "height": 308
        },
        "id": "1CcSywJvXpf3",
        "outputId": "51c214d5-b113-4e37-84b2-1a235f66ad9e"
      },
      "execution_count": 66,
      "outputs": [
        {
          "output_type": "execute_result",
          "data": {
            "text/plain": [
              "<AxesSubplot:xlabel='result'>"
            ]
          },
          "metadata": {},
          "execution_count": 66
        },
        {
          "output_type": "display_data",
          "data": {
            "text/plain": [
              "<Figure size 432x288 with 1 Axes>"
            ],
            "image/png": "[encoded data removed]"
          },
          "metadata": {
            "needs_background": "light"
          }
        }
      ]
    },
    {
      "cell_type": "code",
      "source": [
        "((by_result[\"kda\"]+by_result[\"tower_damage\"]+by_result[\"hero_damage\"])/by_result[\"gpm\"])"
      ],
      "metadata": {
        "colab": {
          "base_uri": "https://localhost:8080/"
        },
        "id": "cjnfRyEccq9W",
        "outputId": "9d490510-0997-4779-d8bd-64c4e8c87ef5"
      },
      "execution_count": 67,
      "outputs": [
        {
          "output_type": "execute_result",
          "data": {
            "text/plain": [
              "result  name   \n",
              "lose    JACKKY     0.682481\n",
              "        Natsumi    0.975250\n",
              "win     JACKKY     1.536941\n",
              "        Natsumi    1.384544\n",
              "dtype: float64"
            ]
          },
          "metadata": {},
          "execution_count": 67
        }
      ]
    },
    {
      "cell_type": "code",
      "source": [
        "simple_efficiency = ((by_result[\"kda\"]+by_result[\"gpm\"]+by_result[\"xpm\"]+by_result[\"tower_damage\"]+by_result[\"hero_damage\"]+by_result[\"teamfight_participation\"])/by_result[\"duration\"]) * 100\n",
        "simple_efficiency"
      ],
      "metadata": {
        "colab": {
          "base_uri": "https://localhost:8080/"
        },
        "id": "gMzZUYf9ZPfL",
        "outputId": "6009dd6b-8925-48ef-b306-df5052137256"
      },
      "execution_count": 68,
      "outputs": [
        {
          "output_type": "execute_result",
          "data": {
            "text/plain": [
              "result  name   \n",
              "lose    JACKKY     0.077966\n",
              "        Natsumi    0.071558\n",
              "win     JACKKY     0.125195\n",
              "        Natsumi    0.126762\n",
              "dtype: float64"
            ]
          },
          "metadata": {},
          "execution_count": 68
        }
      ]
    },
    {
      "cell_type": "code",
      "source": [
        "data = by_result.drop(columns=[\"duration\"])\n",
        "data.head"
      ],
      "metadata": {
        "colab": {
          "base_uri": "https://localhost:8080/"
        },
        "id": "xvRXz4pwt8q2",
        "outputId": "d775016b-7470-4faf-bb39-56d0a37f75b2"
      },
      "execution_count": 62,
      "outputs": [
        {
          "output_type": "execute_result",
          "data": {
            "text/plain": [
              "<bound method NDFrame.head of                 hero_damage  teamfight_participation  tower_damage       kda  \\\n",
              "result name                                                                    \n",
              "lose   JACKKY      0.248608                 0.630983      0.121688  0.068966   \n",
              "       Natsumi     0.267478                 0.621165      0.168977  0.063218   \n",
              "win    JACKKY      0.336090                 0.668999      0.608877  0.349138   \n",
              "       Natsumi     0.454066                 0.675135      0.430892  0.330049   \n",
              "\n",
              "                     gpm       xpm  lh_per_min  \n",
              "result name                                     \n",
              "lose   JACKKY   0.643624  0.368870    0.828600  \n",
              "       Natsumi  0.512355  0.390463    0.755995  \n",
              "win    JACKKY   0.842000  0.575782    0.970779  \n",
              "       Natsumi  0.877551  0.767347    0.881633  >"
            ]
          },
          "metadata": {},
          "execution_count": 62
        }
      ]
    },
    {
      "cell_type": "code",
      "source": [
        "import plotly.graph_objs as go\n",
        "\n",
        "# Define the traces\n",
        "traces = []\n",
        "for name in data.index:\n",
        "    traces.append(go.Scatterpolar(\n",
        "        r=data.loc[name].values,\n",
        "        theta=data.columns,\n",
        "        fill='toself',\n",
        "        name=f\"{name[0]} - {name[1]}\"\n",
        "    ))\n",
        "\n",
        "# Define the layout\n",
        "layout = go.Layout(\n",
        "    polar=dict(\n",
        "        radialaxis=dict(\n",
        "            visible=True,\n",
        "            range=[0, max(data.max())]\n",
        "        )\n",
        "    ),\n",
        "    showlegend=True\n",
        ")\n",
        "\n",
        "# Create the figure\n",
        "fig = go.Figure(data=traces, layout=layout)\n",
        "\n",
        "# Show the plot\n",
        "fig.show()"
      ],
      "metadata": {
        "colab": {
          "base_uri": "https://localhost:8080/",
          "height": 542
        },
        "id": "c5O7hXuNu-qg",
        "outputId": "6ee025ea-fad7-42c2-b97a-06dbc35c28ce"
      },
      "execution_count": 63,
      "outputs": [
        {
          "output_type": "display_data",
          "data": {
            "text/html": [
              "<html>\n",
              "<head><meta charset=\"utf-8\" /></head>\n",
              "<body>\n",
              "    <div>            <script src=\"https://cdnjs.cloudflare.com/ajax/libs/mathjax/2.7.5/MathJax.js?config=TeX-AMS-MML_SVG\"></script><script type=\"text/javascript\">if (window.MathJax) {MathJax.Hub.Config({SVG: {font: \"STIX-Web\"}});}</script>                <script type=\"text/javascript\">window.PlotlyConfig = {MathJaxConfig: 'local'};</script>\n",
              "        <script src=\"https://cdn.plot.ly/plotly-2.8.3.min.js\"></script>                <div id=\"6e7f2853-fa1e-48dc-b328-9443337cdf5f\" class=\"plotly-graph-div\" style=\"height:525px; width:100%;\"></div>            <script type=\"text/javascript\">                                    window.PLOTLYENV=window.PLOTLYENV || {};                                    if (document.getElementById(\"6e7f2853-fa1e-48dc-b328-9443337cdf5f\")) {                    Plotly.newPlot(                        \"6e7f2853-fa1e-48dc-b328-9443337cdf5f\",                        [{\"fill\":\"toself\",\"name\":\"lose - JACKKY\",\"r\":[0.2486075331869865,0.6309827408333334,0.12168827866768372,0.06896551724137932,0.6436242714375707,0.3688698840233367,0.828600324795977],\"theta\":[\"hero_damage\",\"teamfight_participation\",\"tower_damage\",\"kda\",\"gpm\",\"xpm\",\"lh_per_min\"],\"type\":\"scatterpolar\"},{\"fill\":\"toself\",\"name\":\"lose - Natsumi\",\"r\":[0.26747808973934895,0.6211650583333334,0.16897724383422327,0.06321839080459771,0.5123547505126452,0.39046268059425954,0.7559951013898383],\"theta\":[\"hero_damage\",\"teamfight_participation\",\"tower_damage\",\"kda\",\"gpm\",\"xpm\",\"lh_per_min\"],\"type\":\"scatterpolar\"},{\"fill\":\"toself\",\"name\":\"win - JACKKY\",\"r\":[0.3360902839730161,0.668998725,0.6088768115942029,0.34913793103448276,0.8420003607503608,0.57578197945845,0.9707792207792207],\"theta\":[\"hero_damage\",\"teamfight_participation\",\"tower_damage\",\"kda\",\"gpm\",\"xpm\",\"lh_per_min\"],\"type\":\"scatterpolar\"},{\"fill\":\"toself\",\"name\":\"win - Natsumi\",\"r\":[0.4540661367440835,0.6751353242857142,0.43089244851258585,0.33004926108374383,0.8775510204081632,0.7673469387755102,0.8816326530612245],\"theta\":[\"hero_damage\",\"teamfight_participation\",\"tower_damage\",\"kda\",\"gpm\",\"xpm\",\"lh_per_min\"],\"type\":\"scatterpolar\"}],                        {\"polar\":{\"radialaxis\":{\"range\":[0,0.9707792207792207],\"visible\":true}},\"showlegend\":true,\"template\":{\"data\":{\"bar\":[{\"error_x\":{\"color\":\"#2a3f5f\"},\"error_y\":{\"color\":\"#2a3f5f\"},\"marker\":{\"line\":{\"color\":\"#E5ECF6\",\"width\":0.5},\"pattern\":{\"fillmode\":\"overlay\",\"size\":10,\"solidity\":0.2}},\"type\":\"bar\"}],\"barpolar\":[{\"marker\":{\"line\":{\"color\":\"#E5ECF6\",\"width\":0.5},\"pattern\":{\"fillmode\":\"overlay\",\"size\":10,\"solidity\":0.2}},\"type\":\"barpolar\"}],\"carpet\":[{\"aaxis\":{\"endlinecolor\":\"#2a3f5f\",\"gridcolor\":\"white\",\"linecolor\":\"white\",\"minorgridcolor\":\"white\",\"startlinecolor\":\"#2a3f5f\"},\"baxis\":{\"endlinecolor\":\"#2a3f5f\",\"gridcolor\":\"white\",\"linecolor\":\"white\",\"minorgridcolor\":\"white\",\"startlinecolor\":\"#2a3f5f\"},\"type\":\"carpet\"}],\"choropleth\":[{\"colorbar\":{\"outlinewidth\":0,\"ticks\":\"\"},\"type\":\"choropleth\"}],\"contour\":[{\"colorbar\":{\"outlinewidth\":0,\"ticks\":\"\"},\"colorscale\":[[0.0,\"#0d0887\"],[0.1111111111111111,\"#46039f\"],[0.2222222222222222,\"#7201a8\"],[0.3333333333333333,\"#9c179e\"],[0.4444444444444444,\"#bd3786\"],[0.5555555555555556,\"#d8576b\"],[0.6666666666666666,\"#ed7953\"],[0.7777777777777778,\"#fb9f3a\"],[0.8888888888888888,\"#fdca26\"],[1.0,\"#f0f921\"]],\"type\":\"contour\"}],\"contourcarpet\":[{\"colorbar\":{\"outlinewidth\":0,\"ticks\":\"\"},\"type\":\"contourcarpet\"}],\"heatmap\":[{\"colorbar\":{\"outlinewidth\":0,\"ticks\":\"\"},\"colorscale\":[[0.0,\"#0d0887\"],[0.1111111111111111,\"#46039f\"],[0.2222222222222222,\"#7201a8\"],[0.3333333333333333,\"#9c179e\"],[0.4444444444444444,\"#bd3786\"],[0.5555555555555556,\"#d8576b\"],[0.6666666666666666,\"#ed7953\"],[0.7777777777777778,\"#fb9f3a\"],[0.8888888888888888,\"#fdca26\"],[1.0,\"#f0f921\"]],\"type\":\"heatmap\"}],\"heatmapgl\":[{\"colorbar\":{\"outlinewidth\":0,\"ticks\":\"\"},\"colorscale\":[[0.0,\"#0d0887\"],[0.1111111111111111,\"#46039f\"],[0.2222222222222222,\"#7201a8\"],[0.3333333333333333,\"#9c179e\"],[0.4444444444444444,\"#bd3786\"],[0.5555555555555556,\"#d8576b\"],[0.6666666666666666,\"#ed7953\"],[0.7777777777777778,\"#fb9f3a\"],[0.8888888888888888,\"#fdca26\"],[1.0,\"#f0f921\"]],\"type\":\"heatmapgl\"}],\"histogram\":[{\"marker\":{\"pattern\":{\"fillmode\":\"overlay\",\"size\":10,\"solidity\":0.2}},\"type\":\"histogram\"}],\"histogram2d\":[{\"colorbar\":{\"outlinewidth\":0,\"ticks\":\"\"},\"colorscale\":[[0.0,\"#0d0887\"],[0.1111111111111111,\"#46039f\"],[0.2222222222222222,\"#7201a8\"],[0.3333333333333333,\"#9c179e\"],[0.4444444444444444,\"#bd3786\"],[0.5555555555555556,\"#d8576b\"],[0.6666666666666666,\"#ed7953\"],[0.7777777777777778,\"#fb9f3a\"],[0.8888888888888888,\"#fdca26\"],[1.0,\"#f0f921\"]],\"type\":\"histogram2d\"}],\"histogram2dcontour\":[{\"colorbar\":{\"outlinewidth\":0,\"ticks\":\"\"},\"colorscale\":[[0.0,\"#0d0887\"],[0.1111111111111111,\"#46039f\"],[0.2222222222222222,\"#7201a8\"],[0.3333333333333333,\"#9c179e\"],[0.4444444444444444,\"#bd3786\"],[0.5555555555555556,\"#d8576b\"],[0.6666666666666666,\"#ed7953\"],[0.7777777777777778,\"#fb9f3a\"],[0.8888888888888888,\"#fdca26\"],[1.0,\"#f0f921\"]],\"type\":\"histogram2dcontour\"}],\"mesh3d\":[{\"colorbar\":{\"outlinewidth\":0,\"ticks\":\"\"},\"type\":\"mesh3d\"}],\"parcoords\":[{\"line\":{\"colorbar\":{\"outlinewidth\":0,\"ticks\":\"\"}},\"type\":\"parcoords\"}],\"pie\":[{\"automargin\":true,\"type\":\"pie\"}],\"scatter\":[{\"marker\":{\"colorbar\":{\"outlinewidth\":0,\"ticks\":\"\"}},\"type\":\"scatter\"}],\"scatter3d\":[{\"line\":{\"colorbar\":{\"outlinewidth\":0,\"ticks\":\"\"}},\"marker\":{\"colorbar\":{\"outlinewidth\":0,\"ticks\":\"\"}},\"type\":\"scatter3d\"}],\"scattercarpet\":[{\"marker\":{\"colorbar\":{\"outlinewidth\":0,\"ticks\":\"\"}},\"type\":\"scattercarpet\"}],\"scattergeo\":[{\"marker\":{\"colorbar\":{\"outlinewidth\":0,\"ticks\":\"\"}},\"type\":\"scattergeo\"}],\"scattergl\":[{\"marker\":{\"colorbar\":{\"outlinewidth\":0,\"ticks\":\"\"}},\"type\":\"scattergl\"}],\"scattermapbox\":[{\"marker\":{\"colorbar\":{\"outlinewidth\":0,\"ticks\":\"\"}},\"type\":\"scattermapbox\"}],\"scatterpolar\":[{\"marker\":{\"colorbar\":{\"outlinewidth\":0,\"ticks\":\"\"}},\"type\":\"scatterpolar\"}],\"scatterpolargl\":[{\"marker\":{\"colorbar\":{\"outlinewidth\":0,\"ticks\":\"\"}},\"type\":\"scatterpolargl\"}],\"scatterternary\":[{\"marker\":{\"colorbar\":{\"outlinewidth\":0,\"ticks\":\"\"}},\"type\":\"scatterternary\"}],\"surface\":[{\"colorbar\":{\"outlinewidth\":0,\"ticks\":\"\"},\"colorscale\":[[0.0,\"#0d0887\"],[0.1111111111111111,\"#46039f\"],[0.2222222222222222,\"#7201a8\"],[0.3333333333333333,\"#9c179e\"],[0.4444444444444444,\"#bd3786\"],[0.5555555555555556,\"#d8576b\"],[0.6666666666666666,\"#ed7953\"],[0.7777777777777778,\"#fb9f3a\"],[0.8888888888888888,\"#fdca26\"],[1.0,\"#f0f921\"]],\"type\":\"surface\"}],\"table\":[{\"cells\":{\"fill\":{\"color\":\"#EBF0F8\"},\"line\":{\"color\":\"white\"}},\"header\":{\"fill\":{\"color\":\"#C8D4E3\"},\"line\":{\"color\":\"white\"}},\"type\":\"table\"}]},\"layout\":{\"annotationdefaults\":{\"arrowcolor\":\"#2a3f5f\",\"arrowhead\":0,\"arrowwidth\":1},\"autotypenumbers\":\"strict\",\"coloraxis\":{\"colorbar\":{\"outlinewidth\":0,\"ticks\":\"\"}},\"colorscale\":{\"diverging\":[[0,\"#8e0152\"],[0.1,\"#c51b7d\"],[0.2,\"#de77ae\"],[0.3,\"#f1b6da\"],[0.4,\"#fde0ef\"],[0.5,\"#f7f7f7\"],[0.6,\"#e6f5d0\"],[0.7,\"#b8e186\"],[0.8,\"#7fbc41\"],[0.9,\"#4d9221\"],[1,\"#276419\"]],\"sequential\":[[0.0,\"#0d0887\"],[0.1111111111111111,\"#46039f\"],[0.2222222222222222,\"#7201a8\"],[0.3333333333333333,\"#9c179e\"],[0.4444444444444444,\"#bd3786\"],[0.5555555555555556,\"#d8576b\"],[0.6666666666666666,\"#ed7953\"],[0.7777777777777778,\"#fb9f3a\"],[0.8888888888888888,\"#fdca26\"],[1.0,\"#f0f921\"]],\"sequentialminus\":[[0.0,\"#0d0887\"],[0.1111111111111111,\"#46039f\"],[0.2222222222222222,\"#7201a8\"],[0.3333333333333333,\"#9c179e\"],[0.4444444444444444,\"#bd3786\"],[0.5555555555555556,\"#d8576b\"],[0.6666666666666666,\"#ed7953\"],[0.7777777777777778,\"#fb9f3a\"],[0.8888888888888888,\"#fdca26\"],[1.0,\"#f0f921\"]]},\"colorway\":[\"#636efa\",\"#EF553B\",\"#00cc96\",\"#ab63fa\",\"#FFA15A\",\"#19d3f3\",\"#FF6692\",\"#B6E880\",\"#FF97FF\",\"#FECB52\"],\"font\":{\"color\":\"#2a3f5f\"},\"geo\":{\"bgcolor\":\"white\",\"lakecolor\":\"white\",\"landcolor\":\"#E5ECF6\",\"showlakes\":true,\"showland\":true,\"subunitcolor\":\"white\"},\"hoverlabel\":{\"align\":\"left\"},\"hovermode\":\"closest\",\"mapbox\":{\"style\":\"light\"},\"paper_bgcolor\":\"white\",\"plot_bgcolor\":\"#E5ECF6\",\"polar\":{\"angularaxis\":{\"gridcolor\":\"white\",\"linecolor\":\"white\",\"ticks\":\"\"},\"bgcolor\":\"#E5ECF6\",\"radialaxis\":{\"gridcolor\":\"white\",\"linecolor\":\"white\",\"ticks\":\"\"}},\"scene\":{\"xaxis\":{\"backgroundcolor\":\"#E5ECF6\",\"gridcolor\":\"white\",\"gridwidth\":2,\"linecolor\":\"white\",\"showbackground\":true,\"ticks\":\"\",\"zerolinecolor\":\"white\"},\"yaxis\":{\"backgroundcolor\":\"#E5ECF6\",\"gridcolor\":\"white\",\"gridwidth\":2,\"linecolor\":\"white\",\"showbackground\":true,\"ticks\":\"\",\"zerolinecolor\":\"white\"},\"zaxis\":{\"backgroundcolor\":\"#E5ECF6\",\"gridcolor\":\"white\",\"gridwidth\":2,\"linecolor\":\"white\",\"showbackground\":true,\"ticks\":\"\",\"zerolinecolor\":\"white\"}},\"shapedefaults\":{\"line\":{\"color\":\"#2a3f5f\"}},\"ternary\":{\"aaxis\":{\"gridcolor\":\"white\",\"linecolor\":\"white\",\"ticks\":\"\"},\"baxis\":{\"gridcolor\":\"white\",\"linecolor\":\"white\",\"ticks\":\"\"},\"bgcolor\":\"#E5ECF6\",\"caxis\":{\"gridcolor\":\"white\",\"linecolor\":\"white\",\"ticks\":\"\"}},\"title\":{\"x\":0.05},\"xaxis\":{\"automargin\":true,\"gridcolor\":\"white\",\"linecolor\":\"white\",\"ticks\":\"\",\"title\":{\"standoff\":15},\"zerolinecolor\":\"white\",\"zerolinewidth\":2},\"yaxis\":{\"automargin\":true,\"gridcolor\":\"white\",\"linecolor\":\"white\",\"ticks\":\"\",\"title\":{\"standoff\":15},\"zerolinecolor\":\"white\",\"zerolinewidth\":2}}}},                        {\"responsive\": true}                    ).then(function(){\n",
              "                            \n",
              "var gd = document.getElementById('6e7f2853-fa1e-48dc-b328-9443337cdf5f');\n",
              "var x = new MutationObserver(function (mutations, observer) {{\n",
              "        var display = window.getComputedStyle(gd).display;\n",
              "        if (!display || display === 'none') {{\n",
              "            console.log([gd, 'removed!']);\n",
              "            Plotly.purge(gd);\n",
              "            observer.disconnect();\n",
              "        }}\n",
              "}});\n",
              "\n",
              "// Listen for the removal of the full notebook cells\n",
              "var notebookContainer = gd.closest('#notebook-container');\n",
              "if (notebookContainer) {{\n",
              "    x.observe(notebookContainer, {childList: true});\n",
              "}}\n",
              "\n",
              "// Listen for the clearing of the current output cell\n",
              "var outputEl = gd.closest('.output');\n",
              "if (outputEl) {{\n",
              "    x.observe(outputEl, {childList: true});\n",
              "}}\n",
              "\n",
              "                        })                };                            </script>        </div>\n",
              "</body>\n",
              "</html>"
            ]
          },
          "metadata": {}
        }
      ]
    },
    {
      "cell_type": "code",
      "source": [
        "# df[\"purchase.smoke_of_deceit\"] = df[\"purchase.smoke_of_deceit\"].fillna(0).astype(\"int64\")\n",
        "# df[\"match_id\"] = df['match_id'].astype('string')\n",
        "# df.info()"
      ],
      "metadata": {
        "id": "aDaouNvOgluP"
      },
      "execution_count": null,
      "outputs": []
    },
    {
      "cell_type": "code",
      "source": [
        "import plotly.graph_objs as go\n",
        "import pandas as pd\n",
        "\n",
        "# Define the data\n",
        "# data = pd.DataFrame({\n",
        "#     ('lose', 'JACKKY'): [0.55, 0.65, 0.4, 0.6, 0.3, 0.55, 0.7],\n",
        "#     ('lose', 'Natsumi'): [0.54, 0.85, 0.75, 0.75, 0.5, 0.54, 0.67],\n",
        "#     ('win', 'JACKKY'): [0.8, 0.75, 0.35, 0.82, 0.83, 0.8, 1.0],\n",
        "#     ('win', 'Natsumi'): [0.83, 0.95, 0.77, 0.65, 0.75, 0.9, 1.0]\n",
        "# }, index=['hero_damage', 'teamfight_participation', 'tower_damage', 'kda', 'gpm', 'xpm', 'lh_per_min']).T\n",
        "\n",
        "# # Define the traces\n",
        "# traces = []\n",
        "# for name in data.index:\n",
        "#     traces.append(go.Scatterpolar(\n",
        "#         r=data.loc[name].values,\n",
        "#         theta=data.columns,\n",
        "#         fill='toself',\n",
        "#         name=f\"{name[0]} - {name[1]}\"\n",
        "#     ))\n",
        "\n",
        "# # Define the layout\n",
        "# layout = go.Layout(\n",
        "#     polar=dict(\n",
        "#         radialaxis=dict(\n",
        "#             visible=True,\n",
        "#             range=[0, max(data.max())]\n",
        "#         )\n",
        "#     ),\n",
        "#     showlegend=True\n",
        "# )\n",
        "\n",
        "# # Create the figure\n",
        "# fig = go.Figure(data=traces, layout=layout)\n",
        "\n",
        "# # Show the plot\n",
        "# fig.show()\n"
      ],
      "metadata": {
        "id": "AOTj9GWxY-sx"
      },
      "execution_count": 64,
      "outputs": []
    }
  ]
}